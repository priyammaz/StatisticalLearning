{
 "cells": [
  {
   "cell_type": "markdown",
   "id": "c974a999",
   "metadata": {},
   "source": [
    "### Programming Questions\n",
    "\n",
    "#### Problem 1"
   ]
  },
  {
   "cell_type": "code",
   "execution_count": 2,
   "id": "eba6b13c",
   "metadata": {},
   "outputs": [],
   "source": [
    "import numpy as np\n",
    "import matplotlib.pyplot as plt\n",
    "# Generate Random Data\n",
    "X = np.random.normal(size=(100,5))\n",
    "y = X.dot(np.array([1, 0, 0, 1, -1])) + np.random.normal(size=(100,))"
   ]
  },
  {
   "cell_type": "markdown",
   "id": "f84c4dbb",
   "metadata": {},
   "source": [
    "### Multiple Linear Regression without Intercept\n",
    "\n",
    "We will be using the formula $B=(X^TX)^{-1}X^Ty$ on our mock dataset with 5 predictors. We can then see below that our model would be:\n",
    "\n",
    "$y=1.0909X_1 -0.01868X_2 + 0.0025X_3 + 1.03890X_4 -1.2044X_5$"
   ]
  },
  {
   "cell_type": "code",
   "execution_count": 3,
   "id": "37dbe665",
   "metadata": {},
   "outputs": [
    {
     "data": {
      "text/plain": [
       "array([ 1.04220975,  0.02333488,  0.12493062,  0.84998036, -1.26055824])"
      ]
     },
     "execution_count": 3,
     "metadata": {},
     "output_type": "execute_result"
    }
   ],
   "source": [
    "# Coefficients without an intercept\n",
    "coefficients = np.linalg.inv(X.transpose().dot(X)).dot(X.transpose()).dot(y)\n",
    "coefficients"
   ]
  },
  {
   "cell_type": "markdown",
   "id": "09cf5db4",
   "metadata": {},
   "source": [
    "### Multiple Linear Regression With Intercept\n",
    "\n",
    "We will repeat the same steps as above but this time including an intercept in our model\n",
    "\n",
    "$y=-0.1573 + 1.0675X_1 -0.0227X_2 + 0.03402X_3 + 1.01877X_4 -1.19504X_5$"
   ]
  },
  {
   "cell_type": "code",
   "execution_count": 4,
   "id": "9b98531d",
   "metadata": {},
   "outputs": [
    {
     "data": {
      "text/plain": [
       "array([ 0.14995344,  1.05933116,  0.00847083,  0.11634672,  0.83396309,\n",
       "       -1.27348643])"
      ]
     },
     "execution_count": 4,
     "metadata": {},
     "output_type": "execute_result"
    }
   ],
   "source": [
    "X_with_bias = np.hstack((np.ones(shape=(100,1)), X))\n",
    "coefficients_with_int = np.linalg.inv(X_with_bias.transpose().dot(X_with_bias)).dot(X_with_bias.transpose()).dot(y)\n",
    "\n",
    "coefficients_with_int"
   ]
  },
  {
   "cell_type": "markdown",
   "id": "ae96f428",
   "metadata": {},
   "source": [
    "### Problem 2"
   ]
  },
  {
   "cell_type": "code",
   "execution_count": 19,
   "id": "2f9d977e",
   "metadata": {},
   "outputs": [
    {
     "data": {
      "text/plain": [
       "(array([ 12.,  23.,  63., 165., 196., 241., 187.,  83.,  25.,   5.]),\n",
       " array([0.29862421, 0.33869722, 0.37877024, 0.41884326, 0.45891628,\n",
       "        0.49898929, 0.53906231, 0.57913533, 0.61920834, 0.65928136,\n",
       "        0.69935438]),\n",
       " <BarContainer object of 10 artists>)"
      ]
     },
     "execution_count": 19,
     "metadata": {},
     "output_type": "execute_result"
    },
    {
     "data": {
      "image/png": "[encoded data removed]",
      "text/plain": [
       "<Figure size 432x288 with 1 Axes>"
      ]
     },
     "metadata": {
      "needs_background": "light"
     },
     "output_type": "display_data"
    }
   ],
   "source": [
    "np.random.seed(1)\n",
    "#Generate a set of n=20 i.i.d. observations from uniform (0, 1) distribution and calculate the sample mean X¯n\n",
    "single_sample_mean = np.random.uniform(size=20).mean()\n",
    "\n",
    "sample_mean_list = []\n",
    "for i in range(1000):\n",
    "    sample_mean_list.append(np.random.uniform(size=20).mean())\n",
    "    \n",
    "plt.hist(sample_mean_list)"
   ]
  },
  {
   "cell_type": "code",
   "execution_count": 21,
   "id": "332f90f6",
   "metadata": {},
   "outputs": [
    {
     "name": "stdout",
     "output_type": "stream",
     "text": [
      "57\n"
     ]
    }
   ],
   "source": [
    "# How many sample means are more than 0.1 away from parameter\n",
    "counter = 0\n",
    "for i in sample_mean_list:\n",
    "    if i - 0.5 > 0.1:\n",
    "        counter += 1\n",
    "        \n",
    "print(counter)\n",
    "\n",
    "# we have 57 greater thatn 0.1 away"
   ]
  },
  {
   "cell_type": "code",
   "execution_count": 42,
   "id": "311cbe57",
   "metadata": {},
   "outputs": [
    {
     "data": {
      "text/plain": [
       "(array([  8.,  54., 128., 209., 250., 187., 112.,  38.,  11.,   3.]),\n",
       " array([0.41675114, 0.43554874, 0.45434633, 0.47314393, 0.49194152,\n",
       "        0.51073911, 0.52953671, 0.5483343 , 0.5671319 , 0.58592949,\n",
       "        0.60472709]),\n",
       " <BarContainer object of 10 artists>)"
      ]
     },
     "execution_count": 42,
     "metadata": {},
     "output_type": "execute_result"
    },
    {
     "data": {
      "image/png": "[encoded data removed]",
      "text/plain": [
       "<Figure size 432x288 with 1 Axes>"
      ]
     },
     "metadata": {
      "needs_background": "light"
     },
     "output_type": "display_data"
    }
   ],
   "source": [
    "sample_mean_list = []\n",
    "for i in range(1000):\n",
    "    sample_mean_list.append(np.random.uniform(0, 1, size=100).mean())\n",
    "for i in sample_mean_list:\n",
    "    if i - 0.5 > 0.1:\n",
    "        counter += 1\n",
    "plt.hist(sample_mean_list)\n",
    "\n"
   ]
  },
  {
   "cell_type": "code",
   "execution_count": 41,
   "id": "e7b987b3",
   "metadata": {},
   "outputs": [
    {
     "data": {
      "text/plain": [
       "(array([ 3.,  4., 15., 13., 13., 21., 13., 12.,  4.,  2.]),\n",
       " array([0.46914559, 0.47561551, 0.48208543, 0.48855534, 0.49502526,\n",
       "        0.50149518, 0.50796509, 0.51443501, 0.52090493, 0.52737484,\n",
       "        0.53384476]),\n",
       " <BarContainer object of 10 artists>)"
      ]
     },
     "execution_count": 41,
     "metadata": {},
     "output_type": "execute_result"
    },
    {
     "data": {
      "image/png": "[encoded data removed]",
      "text/plain": [
       "<Figure size 432x288 with 1 Axes>"
      ]
     },
     "metadata": {
      "needs_background": "light"
     },
     "output_type": "display_data"
    }
   ],
   "source": [
    "sample_mean_list = []\n",
    "for i in range(100):\n",
    "    sample_mean_list.append(np.random.uniform(0, 1, size=500).mean())\n",
    "for i in sample_mean_list:\n",
    "    if i - 0.5 > 0.1:\n",
    "        counter += 1\n",
    "plt.hist(sample_mean_list)"
   ]
  },
  {
   "cell_type": "code",
   "execution_count": 40,
   "id": "3e77817c",
   "metadata": {},
   "outputs": [
    {
     "data": {
      "text/plain": [
       "0.42819646344723195"
      ]
     },
     "execution_count": 40,
     "metadata": {},
     "output_type": "execute_result"
    }
   ],
   "source": [
    "np.random.uniform(0, 1, size=10).mean()"
   ]
  },
  {
   "cell_type": "markdown",
   "id": "48194169",
   "metadata": {},
   "source": [
    "We can clearly see that the ranges are becoming more concentrated around the center, thus our deviation is getting smaller from 0.5, our mean."
   ]
  }
 ],
 "metadata": {
  "kernelspec": {
   "display_name": "Python 3 (ipykernel)",
   "language": "python",
   "name": "python3"
  },
  "language_info": {
   "codemirror_mode": {
    "name": "ipython",
    "version": 3
   },
   "file_extension": ".py",
   "mimetype": "text/x-python",
   "name": "python",
   "nbconvert_exporter": "python",
   "pygments_lexer": "ipython3",
   "version": "3.9.7"
  }
 },
 "nbformat": 4,
 "nbformat_minor": 5
}
