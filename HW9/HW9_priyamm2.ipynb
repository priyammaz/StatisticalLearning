{
 "cells": [
  {
   "cell_type": "markdown",
   "id": "ff2e5822",
   "metadata": {},
   "source": [
    "# Homework 9\n",
    "**Name:** Priyam Mazumdar\n",
    "\n",
    "**NetID:** priyamm2\n"
   ]
  },
  {
   "cell_type": "code",
   "execution_count": 1,
   "id": "bb30e5b2",
   "metadata": {},
   "outputs": [],
   "source": [
    "### Load Packages\n",
    "import pandas as pd\n",
    "import numpy as np\n",
    "import math\n",
    "import matplotlib.pyplot as plt\n",
    "from sklearn.linear_model import RidgeCV\n",
    "from sklearn.metrics import mean_squared_error, confusion_matrix, accuracy_score\n",
    "import scipy.optimize as optimize"
   ]
  },
  {
   "cell_type": "markdown",
   "id": "2e538515",
   "metadata": {},
   "source": [
    "# Question 1: Kernel Ridge Regression\n",
    "Let's first generate a set of data using the following code (or some similar code in Python):"
   ]
  },
  {
   "cell_type": "code",
   "execution_count": 2,
   "id": "53cdd416",
   "metadata": {},
   "outputs": [],
   "source": [
    "### GENERATE DATA ###\n",
    "data = pd.read_csv(\"q1_data.csv\")\n",
    "alldata = data.values\n",
    "X_train, y_train = alldata[:200, :2], alldata[:200, -1]\n",
    "X_test, y_test = alldata[200:, :2], alldata[200:, -1]"
   ]
  },
  {
   "cell_type": "markdown",
   "id": "4f629ea9",
   "metadata": {},
   "source": [
    "1a. As a comparison, we can first fit a ridge regression to this data. Use the `train` part to fit a ridge regression using the `glmnet()` package with 10-fold cross-validation. Use `lambda.min` as your tuning parameter to predict the testing data. What is the prediction error? "
   ]
  },
  {
   "cell_type": "code",
   "execution_count": 3,
   "id": "601be403",
   "metadata": {},
   "outputs": [
    {
     "name": "stdout",
     "output_type": "stream",
     "text": [
      "Best Lambda Value:  12.121212121212121\n",
      "Mean Squared Error:  3.2071528758308356\n"
     ]
    }
   ],
   "source": [
    "alpha_values = np.linspace(0, 20, 100)\n",
    "ridge_regression = RidgeCV(alphas=alpha_values,\n",
    "                          cv=10)\n",
    "ridge_regression.fit(X_train, y_train)\n",
    "y_test_pred = ridge_regression.predict(X_test)\n",
    "\n",
    "print(\"Best Lambda Value: \", ridge_regression.alpha_)\n",
    "print(\"Mean Squared Error: \", mean_squared_error(y_test_pred, y_test))\n"
   ]
  },
  {
   "cell_type": "markdown",
   "id": "48040d87",
   "metadata": {},
   "source": [
    "1b. Compute the 200 $\\times$ 200 kernel matrix $\\mathbf{K}$. Use a Gaussian kernel and $\\sigma = 1$. "
   ]
  },
  {
   "cell_type": "code",
   "execution_count": 4,
   "id": "9ffd50bb",
   "metadata": {},
   "outputs": [],
   "source": [
    "def calc_kernel(training_data, sigma=1):\n",
    "    n,p = training_data.shape\n",
    "    k = np.zeros((n,n))\n",
    "    for i in range(n):\n",
    "        for j in range(n):\n",
    "            norm = np.linalg.norm(training_data[i,:]-training_data[j,:])\n",
    "            k[i,j] = np.exp(-norm**2/(2*sigma)) \n",
    "    return k\n",
    "\n",
    "K_train = calc_kernel(X_train)"
   ]
  },
  {
   "cell_type": "markdown",
   "id": "6620fd65",
   "metadata": {},
   "source": [
    "1c. Based on the kernel ridge regression derivation, get the solution $\\boldsymbol \\alpha$. Use $\\lambda = 0.01$"
   ]
  },
  {
   "cell_type": "code",
   "execution_count": 5,
   "id": "89970d63",
   "metadata": {},
   "outputs": [],
   "source": [
    "lambda_value = 0.01\n",
    "n,_ = X_train.shape\n",
    "alpha = np.dot(np.linalg.inv(K_train + n*lambda_value*np.eye(n)), y_train)\n"
   ]
  },
  {
   "cell_type": "markdown",
   "id": "3cdd7e1e",
   "metadata": {},
   "source": [
    "1d. The prediction of kernel ridge regression involves computing the kernel between a testing data and all the training data. To be specific, if we have a new testing data $z$, then the prediction $\\widehat{f}(z)$ is \n",
    "$$\\widehat{f}(z) = \\sum_{i = 1}^n \\alpha_i K(z, x_i)$$\n",
    "Since we have 300 testing data, this involves calculating a 300 $\\times$ 200 testing data kernel matrix, denoted as $K_\\text{test}$, and the vector of prediction is $K_\\text{test} \\boldsymbol \\alpha$. "
   ]
  },
  {
   "cell_type": "code",
   "execution_count": 6,
   "id": "5912e645",
   "metadata": {},
   "outputs": [],
   "source": [
    "def test_kernel(X_train, X_test, sigma=1):\n",
    "    n_test, n_train = X_test.shape[0], X_train.shape[0]\n",
    "    K = np.zeros((n_test, n_train))\n",
    "    for i in range(n_test):\n",
    "        for j in range(n_train):\n",
    "            norm = np.linalg.norm(X_test[i,:]-X_train[j,:])\n",
    "            K[i,j] = np.exp(-norm**2/(2*sigma))\n",
    "            \n",
    "    return K\n",
    "\n",
    "K_test = test_kernel(X_train, X_test)"
   ]
  },
  {
   "cell_type": "markdown",
   "id": "376ba8f5",
   "metadata": {},
   "source": [
    "1d. Predict the testing data using the kernel and $\\widehat{\\boldsymbol \\alpha}$. What is the prediction error? Is it better than the ridge regression?"
   ]
  },
  {
   "cell_type": "code",
   "execution_count": 7,
   "id": "068bc0bb",
   "metadata": {},
   "outputs": [
    {
     "name": "stdout",
     "output_type": "stream",
     "text": [
      "Kernel MSE:  0.7995523911958372\n"
     ]
    }
   ],
   "source": [
    "y_pred = np.dot(K_test, alpha)\n",
    "print(\"Kernel MSE: \", mean_squared_error(y_pred, y_test))"
   ]
  },
  {
   "cell_type": "markdown",
   "id": "8154a651",
   "metadata": {},
   "source": [
    "The Mean Squared Error of the Kernel Ridge Regression (0.79) is about 4 times less than our Ridge Regression CV MSE (3.2)"
   ]
  },
  {
   "cell_type": "markdown",
   "id": "04ae1c07",
   "metadata": {},
   "source": [
    "# Question 2: Non-Linear SVM as Penalized Version"
   ]
  },
  {
   "cell_type": "code",
   "execution_count": 8,
   "id": "16fc5a5b",
   "metadata": {},
   "outputs": [],
   "source": [
    "### GENERATE DATA ###\n",
    "data = pd.read_csv(\"q2_data.csv\")\n",
    "alldata = data.values\n",
    "X_train, y_train = alldata[:200, :2], alldata[:200, -1]\n",
    "X_test, y_test = alldata[200:, :2], alldata[200:, -1]"
   ]
  },
  {
   "cell_type": "markdown",
   "id": "a9ece409",
   "metadata": {},
   "source": [
    "* [15 Points] Write a penalized loss objective function `SVMfn(b, K, y, lambda)` corresponding to the form we specified. Make sure to use the $1/n$ scale in the loss function part. "
   ]
  },
  {
   "cell_type": "code",
   "execution_count": 9,
   "id": "7e0b99dd",
   "metadata": {},
   "outputs": [],
   "source": [
    "def SVMfn(b, k, y, lambda_value):\n",
    "    total_loss = 0\n",
    "    for i in range(k.shape[1]):\n",
    "        fx = np.exp(-y[i]*np.dot(k[:,i].T,b))\n",
    "        total_loss += np.log(1+fx) / k.shape[1]\n",
    "    total_loss += (lambda_value * np.dot(np.dot(b.T,k),b))\n",
    "    return total_loss"
   ]
  },
  {
   "cell_type": "markdown",
   "id": "be5aee83",
   "metadata": {},
   "source": [
    "* [20 Points] Drive the gradient of the loss function, typeset with LaTex. Then write a gradient function `SVMgr(b, K, y, lambda)` to implement it. \n",
    "\n",
    "Our Loss Fucnction can be written as:\n",
    "\n",
    "\\begin{align}\n",
    "L(b) = \\frac{1}{n}\\sum_{i=1}^n \\log(1+\\exp(-y_i K_i^T b))+\\lambda b^T K b\n",
    "\\end{align}\n",
    "\n",
    "Therefore we want to take the derivative of:\n",
    "\n",
    "\\begin{align}\n",
    "\\frac{\\partial}{\\partial b}\\frac{1}{n}\\sum_{i=1}^n \\log(1+\\exp(-y_i K_i^T b))+\\lambda (Kb + K^Tb)\n",
    "\\end{align}\n",
    "\n",
    "Which is:\n",
    "\n",
    "$$\\frac{1}{n}\\sum_{i=1}^n \\frac{-y_iK_ie^{-y_iK^Tb}}{1 + e^{-y_iK^Tx_i}}+\\lambda (Kb + K^Tb)$$\n",
    "\n",
    "\n",
    "$$-\\frac{1}{n}\\sum_{i=1}^n -y_iK_i\\frac{1 + e^{-y_iK^Tb} - 1}{1 + e^{-y_iK^Tx_i}}+\\lambda (Kb + K^Tb)$$\n",
    "\n",
    "$$-\\frac{1}{n}\\sum_{i=1}^n y_iK_i(1 - \\frac{1}{1 + e^{-y_iK^Tb}})+\\lambda (Kb + K^Tb)$$\n",
    "\n",
    "\n",
    "\n"
   ]
  },
  {
   "cell_type": "code",
   "execution_count": 10,
   "id": "93cc847b",
   "metadata": {},
   "outputs": [],
   "source": [
    "def SVMgr(b, k, y, lambda_value):\n",
    "    grad = np.zeros(k.shape[0])\n",
    "    for i in range(k.shape[0]):\n",
    "        grad += -y[i]*k[:,i]*(1-1/(1+np.exp(-y[i]*np.dot(k[:,i].T,b))))/k.shape[0]\n",
    "    grad += 2*(np.dot(k,b) + np.dot(k.T, b))\n",
    "    return grad"
   ]
  },
  {
   "cell_type": "markdown",
   "id": "7ef2715b",
   "metadata": {},
   "source": [
    "* [20 Points] Use the `optim()` function to solve this optimization problem by supplying the objective function and gradient function. Use $\\sigma = 0.2$ and $\\lambda = 0.01$. Initialize your coefficients as zeros. Report the following:\n",
    "    + The optimal loss function \n",
    "    + A confusion table of the training data\n",
    "    + Mis-classification rate on training data."
   ]
  },
  {
   "cell_type": "code",
   "execution_count": 11,
   "id": "ec25433d",
   "metadata": {},
   "outputs": [
    {
     "name": "stdout",
     "output_type": "stream",
     "text": [
      "Training Confusion Matrix\n",
      "[[ 76   6]\n",
      " [  4 114]]\n",
      "Misclassification Rate on Training: 0.05\n"
     ]
    }
   ],
   "source": [
    "k = calc_kernel(X_train, sigma=0.2)\n",
    "lambda_value = 0.01\n",
    "init = np.zeros((X_train.shape[0], 1))\n",
    "solve = optimize.minimize(SVMfn,\n",
    "                        init,\n",
    "                        args=(k,y_train,lambda_value),\n",
    "                        method='BFGS',\n",
    "                        jac=SVMgr)\n",
    "\n",
    "y_pred = np.array([1 if i>=0 else -1 for i in np.dot((solve.x).T,k)])\n",
    "\n",
    "cnf_mat = confusion_matrix(y_train,y_pred)\n",
    "accuracy = accuracy_score(y_train,y_pred) \n",
    "print(\"Training Confusion Matrix\")\n",
    "print(cnf_mat)\n",
    "print(\"Misclassification Rate on Training: {}\".format(round(1 - accuracy, 3)))"
   ]
  },
  {
   "cell_type": "markdown",
   "id": "0d69ef2b",
   "metadata": {},
   "source": [
    "  * It could be difficult to obtain the decision line itself. However, its relatively easy to obtain the fitted label for the testing data. Hence, calculate the fitted label of the testing data and report the classification error. Plot the testing data using the fitted labels as colors. You should also add the true decision line (since you already know the true data generator). This would allow you to visualize (approximately) the decision line. You do not need to plot the original labels. \n"
   ]
  },
  {
   "cell_type": "code",
   "execution_count": 12,
   "id": "e69d04d5",
   "metadata": {},
   "outputs": [
    {
     "name": "stdout",
     "output_type": "stream",
     "text": [
      "Testing Confusion Matrix\n",
      "[[132  21]\n",
      " [  6 141]]\n",
      "Misclassification Rate on Testing: 0.09\n"
     ]
    },
    {
     "data": {
      "image/png": "[encoded data removed]",
      "text/plain": [
       "<Figure size 432x288 with 1 Axes>"
      ]
     },
     "metadata": {
      "needs_background": "light"
     },
     "output_type": "display_data"
    }
   ],
   "source": [
    "k_test = test_kernel(X_train, X_test, sigma=0.2)\n",
    "y_test_pred = np.array([1 if i>=0 else -1 for i in np.dot(k_test, (solve.x).T)])\n",
    "\n",
    "cnf_mat = confusion_matrix(y_test,y_test_pred)\n",
    "accuracy = accuracy_score(y_test,y_test_pred) \n",
    "print(\"Testing Confusion Matrix\")\n",
    "print(cnf_mat)\n",
    "print(\"Misclassification Rate on Testing: {}\".format(round(1 - accuracy, 3)))\n",
    "\n",
    "posdata = alldata[alldata[:, -1] == 1]\n",
    "negdata = alldata[alldata[:, -1] == -1]\n",
    "\n",
    "x1, x2, y = alldata[:,0], alldata[:,1], alldata[:,2]\n",
    "x_ax_range = np.linspace(x1.min(), x1.max(), 100)\n",
    "y_ax_curve = np.sin(np.pi*x_ax_range)\n",
    "\n",
    "plt.scatter(x=posdata[:,0],y=posdata[:,1], label=\"Positive\", alpha=0.5)\n",
    "plt.scatter(x=negdata[:,0],y=negdata[:,1], label=\"Negative\", alpha=0.5)\n",
    "plt.plot(x_ax_range ,y_ax_curve, label=\"Decision Line\", color=\"green\", lw=4)\n",
    "plt.legend()\n",
    "plt.show()\n",
    "\n"
   ]
  }
 ],
 "metadata": {
  "kernelspec": {
   "display_name": "Python 3 (ipykernel)",
   "language": "python",
   "name": "python3"
  },
  "language_info": {
   "codemirror_mode": {
    "name": "ipython",
    "version": 3
   },
   "file_extension": ".py",
   "mimetype": "text/x-python",
   "name": "python",
   "nbconvert_exporter": "python",
   "pygments_lexer": "ipython3",
   "version": "3.9.7"
  }
 },
 "nbformat": 4,
 "nbformat_minor": 5
}
