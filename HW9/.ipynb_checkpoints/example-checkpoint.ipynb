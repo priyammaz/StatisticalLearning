{
 "cells": [
  {
   "cell_type": "markdown",
   "metadata": {
    "id": "j66mtLV9aQkZ"
   },
   "source": [
    "Name: Yang Yue (yangyue3)"
   ]
  },
  {
   "cell_type": "markdown",
   "metadata": {
    "id": "2ZCcvuaHaTng"
   },
   "source": [
    "**Answer to Question 1**"
   ]
  },
  {
   "cell_type": "code",
   "execution_count": 1,
   "metadata": {
    "id": "jTnpWZeUaS51"
   },
   "outputs": [],
   "source": [
    "# List of packages used \n",
    "import numpy as np\n",
    "import pandas as pd\n",
    "\n",
    "from sklearn.linear_model import RidgeCV\n",
    "from sklearn.metrics import mean_squared_error"
   ]
  },
  {
   "cell_type": "code",
   "execution_count": 2,
   "metadata": {
    "id": "Kf1a2XWpaphw"
   },
   "outputs": [
    {
     "ename": "FileNotFoundError",
     "evalue": "[Errno 2] No such file or directory: 'hw9_1.csv'",
     "output_type": "error",
     "traceback": [
      "\u001b[0;31m---------------------------------------------------------------------------\u001b[0m",
      "\u001b[0;31mFileNotFoundError\u001b[0m                         Traceback (most recent call last)",
      "\u001b[0;32m/var/folders/qz/yzjvqw6d30q440xwn0gzywjw0000gn/T/ipykernel_28021/2865562564.py\u001b[0m in \u001b[0;36m<module>\u001b[0;34m\u001b[0m\n\u001b[1;32m      1\u001b[0m \u001b[0;31m# Load the data generated from R\u001b[0m\u001b[0;34m\u001b[0m\u001b[0;34m\u001b[0m\u001b[0m\n\u001b[0;32m----> 2\u001b[0;31m \u001b[0mdata1\u001b[0m \u001b[0;34m=\u001b[0m \u001b[0mpd\u001b[0m\u001b[0;34m.\u001b[0m\u001b[0mread_csv\u001b[0m\u001b[0;34m(\u001b[0m\u001b[0;34m'hw9_1.csv'\u001b[0m\u001b[0;34m)\u001b[0m\u001b[0;34m\u001b[0m\u001b[0;34m\u001b[0m\u001b[0m\n\u001b[0m\u001b[1;32m      3\u001b[0m \u001b[0mdata1\u001b[0m\u001b[0;34m.\u001b[0m\u001b[0mcolumns\u001b[0m \u001b[0;34m=\u001b[0m \u001b[0;34m[\u001b[0m\u001b[0;34m'x1'\u001b[0m\u001b[0;34m,\u001b[0m\u001b[0;34m'x2'\u001b[0m\u001b[0;34m,\u001b[0m\u001b[0;34m'y'\u001b[0m\u001b[0;34m]\u001b[0m\u001b[0;34m\u001b[0m\u001b[0;34m\u001b[0m\u001b[0m\n\u001b[1;32m      4\u001b[0m \u001b[0mtrain1\u001b[0m \u001b[0;34m=\u001b[0m \u001b[0mdata1\u001b[0m\u001b[0;34m.\u001b[0m\u001b[0miloc\u001b[0m\u001b[0;34m[\u001b[0m\u001b[0;34m:\u001b[0m\u001b[0;36m200\u001b[0m\u001b[0;34m,\u001b[0m\u001b[0;34m:\u001b[0m\u001b[0;34m]\u001b[0m\u001b[0;34m\u001b[0m\u001b[0;34m\u001b[0m\u001b[0m\n\u001b[1;32m      5\u001b[0m \u001b[0mtest1\u001b[0m \u001b[0;34m=\u001b[0m \u001b[0mdata1\u001b[0m\u001b[0;34m.\u001b[0m\u001b[0miloc\u001b[0m\u001b[0;34m[\u001b[0m\u001b[0;36m200\u001b[0m\u001b[0;34m:\u001b[0m\u001b[0;34m,\u001b[0m\u001b[0;34m:\u001b[0m\u001b[0;34m]\u001b[0m\u001b[0;34m\u001b[0m\u001b[0;34m\u001b[0m\u001b[0m\n",
      "\u001b[0;32m/opt/anaconda3/envs/stat542/lib/python3.9/site-packages/pandas/util/_decorators.py\u001b[0m in \u001b[0;36mwrapper\u001b[0;34m(*args, **kwargs)\u001b[0m\n\u001b[1;32m    309\u001b[0m                     \u001b[0mstacklevel\u001b[0m\u001b[0;34m=\u001b[0m\u001b[0mstacklevel\u001b[0m\u001b[0;34m,\u001b[0m\u001b[0;34m\u001b[0m\u001b[0;34m\u001b[0m\u001b[0m\n\u001b[1;32m    310\u001b[0m                 )\n\u001b[0;32m--> 311\u001b[0;31m             \u001b[0;32mreturn\u001b[0m \u001b[0mfunc\u001b[0m\u001b[0;34m(\u001b[0m\u001b[0;34m*\u001b[0m\u001b[0margs\u001b[0m\u001b[0;34m,\u001b[0m \u001b[0;34m**\u001b[0m\u001b[0mkwargs\u001b[0m\u001b[0;34m)\u001b[0m\u001b[0;34m\u001b[0m\u001b[0;34m\u001b[0m\u001b[0m\n\u001b[0m\u001b[1;32m    312\u001b[0m \u001b[0;34m\u001b[0m\u001b[0m\n\u001b[1;32m    313\u001b[0m         \u001b[0;32mreturn\u001b[0m \u001b[0mwrapper\u001b[0m\u001b[0;34m\u001b[0m\u001b[0;34m\u001b[0m\u001b[0m\n",
      "\u001b[0;32m/opt/anaconda3/envs/stat542/lib/python3.9/site-packages/pandas/io/parsers/readers.py\u001b[0m in \u001b[0;36mread_csv\u001b[0;34m(filepath_or_buffer, sep, delimiter, header, names, index_col, usecols, squeeze, prefix, mangle_dupe_cols, dtype, engine, converters, true_values, false_values, skipinitialspace, skiprows, skipfooter, nrows, na_values, keep_default_na, na_filter, verbose, skip_blank_lines, parse_dates, infer_datetime_format, keep_date_col, date_parser, dayfirst, cache_dates, iterator, chunksize, compression, thousands, decimal, lineterminator, quotechar, quoting, doublequote, escapechar, comment, encoding, encoding_errors, dialect, error_bad_lines, warn_bad_lines, on_bad_lines, delim_whitespace, low_memory, memory_map, float_precision, storage_options)\u001b[0m\n\u001b[1;32m    584\u001b[0m     \u001b[0mkwds\u001b[0m\u001b[0;34m.\u001b[0m\u001b[0mupdate\u001b[0m\u001b[0;34m(\u001b[0m\u001b[0mkwds_defaults\u001b[0m\u001b[0;34m)\u001b[0m\u001b[0;34m\u001b[0m\u001b[0;34m\u001b[0m\u001b[0m\n\u001b[1;32m    585\u001b[0m \u001b[0;34m\u001b[0m\u001b[0m\n\u001b[0;32m--> 586\u001b[0;31m     \u001b[0;32mreturn\u001b[0m \u001b[0m_read\u001b[0m\u001b[0;34m(\u001b[0m\u001b[0mfilepath_or_buffer\u001b[0m\u001b[0;34m,\u001b[0m \u001b[0mkwds\u001b[0m\u001b[0;34m)\u001b[0m\u001b[0;34m\u001b[0m\u001b[0;34m\u001b[0m\u001b[0m\n\u001b[0m\u001b[1;32m    587\u001b[0m \u001b[0;34m\u001b[0m\u001b[0m\n\u001b[1;32m    588\u001b[0m \u001b[0;34m\u001b[0m\u001b[0m\n",
      "\u001b[0;32m/opt/anaconda3/envs/stat542/lib/python3.9/site-packages/pandas/io/parsers/readers.py\u001b[0m in \u001b[0;36m_read\u001b[0;34m(filepath_or_buffer, kwds)\u001b[0m\n\u001b[1;32m    480\u001b[0m \u001b[0;34m\u001b[0m\u001b[0m\n\u001b[1;32m    481\u001b[0m     \u001b[0;31m# Create the parser.\u001b[0m\u001b[0;34m\u001b[0m\u001b[0;34m\u001b[0m\u001b[0m\n\u001b[0;32m--> 482\u001b[0;31m     \u001b[0mparser\u001b[0m \u001b[0;34m=\u001b[0m \u001b[0mTextFileReader\u001b[0m\u001b[0;34m(\u001b[0m\u001b[0mfilepath_or_buffer\u001b[0m\u001b[0;34m,\u001b[0m \u001b[0;34m**\u001b[0m\u001b[0mkwds\u001b[0m\u001b[0;34m)\u001b[0m\u001b[0;34m\u001b[0m\u001b[0;34m\u001b[0m\u001b[0m\n\u001b[0m\u001b[1;32m    483\u001b[0m \u001b[0;34m\u001b[0m\u001b[0m\n\u001b[1;32m    484\u001b[0m     \u001b[0;32mif\u001b[0m \u001b[0mchunksize\u001b[0m \u001b[0;32mor\u001b[0m \u001b[0miterator\u001b[0m\u001b[0;34m:\u001b[0m\u001b[0;34m\u001b[0m\u001b[0;34m\u001b[0m\u001b[0m\n",
      "\u001b[0;32m/opt/anaconda3/envs/stat542/lib/python3.9/site-packages/pandas/io/parsers/readers.py\u001b[0m in \u001b[0;36m__init__\u001b[0;34m(self, f, engine, **kwds)\u001b[0m\n\u001b[1;32m    809\u001b[0m             \u001b[0mself\u001b[0m\u001b[0;34m.\u001b[0m\u001b[0moptions\u001b[0m\u001b[0;34m[\u001b[0m\u001b[0;34m\"has_index_names\"\u001b[0m\u001b[0;34m]\u001b[0m \u001b[0;34m=\u001b[0m \u001b[0mkwds\u001b[0m\u001b[0;34m[\u001b[0m\u001b[0;34m\"has_index_names\"\u001b[0m\u001b[0;34m]\u001b[0m\u001b[0;34m\u001b[0m\u001b[0;34m\u001b[0m\u001b[0m\n\u001b[1;32m    810\u001b[0m \u001b[0;34m\u001b[0m\u001b[0m\n\u001b[0;32m--> 811\u001b[0;31m         \u001b[0mself\u001b[0m\u001b[0;34m.\u001b[0m\u001b[0m_engine\u001b[0m \u001b[0;34m=\u001b[0m \u001b[0mself\u001b[0m\u001b[0;34m.\u001b[0m\u001b[0m_make_engine\u001b[0m\u001b[0;34m(\u001b[0m\u001b[0mself\u001b[0m\u001b[0;34m.\u001b[0m\u001b[0mengine\u001b[0m\u001b[0;34m)\u001b[0m\u001b[0;34m\u001b[0m\u001b[0;34m\u001b[0m\u001b[0m\n\u001b[0m\u001b[1;32m    812\u001b[0m \u001b[0;34m\u001b[0m\u001b[0m\n\u001b[1;32m    813\u001b[0m     \u001b[0;32mdef\u001b[0m \u001b[0mclose\u001b[0m\u001b[0;34m(\u001b[0m\u001b[0mself\u001b[0m\u001b[0;34m)\u001b[0m\u001b[0;34m:\u001b[0m\u001b[0;34m\u001b[0m\u001b[0;34m\u001b[0m\u001b[0m\n",
      "\u001b[0;32m/opt/anaconda3/envs/stat542/lib/python3.9/site-packages/pandas/io/parsers/readers.py\u001b[0m in \u001b[0;36m_make_engine\u001b[0;34m(self, engine)\u001b[0m\n\u001b[1;32m   1038\u001b[0m             )\n\u001b[1;32m   1039\u001b[0m         \u001b[0;31m# error: Too many arguments for \"ParserBase\"\u001b[0m\u001b[0;34m\u001b[0m\u001b[0;34m\u001b[0m\u001b[0m\n\u001b[0;32m-> 1040\u001b[0;31m         \u001b[0;32mreturn\u001b[0m \u001b[0mmapping\u001b[0m\u001b[0;34m[\u001b[0m\u001b[0mengine\u001b[0m\u001b[0;34m]\u001b[0m\u001b[0;34m(\u001b[0m\u001b[0mself\u001b[0m\u001b[0;34m.\u001b[0m\u001b[0mf\u001b[0m\u001b[0;34m,\u001b[0m \u001b[0;34m**\u001b[0m\u001b[0mself\u001b[0m\u001b[0;34m.\u001b[0m\u001b[0moptions\u001b[0m\u001b[0;34m)\u001b[0m  \u001b[0;31m# type: ignore[call-arg]\u001b[0m\u001b[0;34m\u001b[0m\u001b[0;34m\u001b[0m\u001b[0m\n\u001b[0m\u001b[1;32m   1041\u001b[0m \u001b[0;34m\u001b[0m\u001b[0m\n\u001b[1;32m   1042\u001b[0m     \u001b[0;32mdef\u001b[0m \u001b[0m_failover_to_python\u001b[0m\u001b[0;34m(\u001b[0m\u001b[0mself\u001b[0m\u001b[0;34m)\u001b[0m\u001b[0;34m:\u001b[0m\u001b[0;34m\u001b[0m\u001b[0;34m\u001b[0m\u001b[0m\n",
      "\u001b[0;32m/opt/anaconda3/envs/stat542/lib/python3.9/site-packages/pandas/io/parsers/c_parser_wrapper.py\u001b[0m in \u001b[0;36m__init__\u001b[0;34m(self, src, **kwds)\u001b[0m\n\u001b[1;32m     49\u001b[0m \u001b[0;34m\u001b[0m\u001b[0m\n\u001b[1;32m     50\u001b[0m         \u001b[0;31m# open handles\u001b[0m\u001b[0;34m\u001b[0m\u001b[0;34m\u001b[0m\u001b[0m\n\u001b[0;32m---> 51\u001b[0;31m         \u001b[0mself\u001b[0m\u001b[0;34m.\u001b[0m\u001b[0m_open_handles\u001b[0m\u001b[0;34m(\u001b[0m\u001b[0msrc\u001b[0m\u001b[0;34m,\u001b[0m \u001b[0mkwds\u001b[0m\u001b[0;34m)\u001b[0m\u001b[0;34m\u001b[0m\u001b[0;34m\u001b[0m\u001b[0m\n\u001b[0m\u001b[1;32m     52\u001b[0m         \u001b[0;32massert\u001b[0m \u001b[0mself\u001b[0m\u001b[0;34m.\u001b[0m\u001b[0mhandles\u001b[0m \u001b[0;32mis\u001b[0m \u001b[0;32mnot\u001b[0m \u001b[0;32mNone\u001b[0m\u001b[0;34m\u001b[0m\u001b[0;34m\u001b[0m\u001b[0m\n\u001b[1;32m     53\u001b[0m \u001b[0;34m\u001b[0m\u001b[0m\n",
      "\u001b[0;32m/opt/anaconda3/envs/stat542/lib/python3.9/site-packages/pandas/io/parsers/base_parser.py\u001b[0m in \u001b[0;36m_open_handles\u001b[0;34m(self, src, kwds)\u001b[0m\n\u001b[1;32m    220\u001b[0m         \u001b[0mLet\u001b[0m \u001b[0mthe\u001b[0m \u001b[0mreaders\u001b[0m \u001b[0mopen\u001b[0m \u001b[0mIOHandles\u001b[0m \u001b[0mafter\u001b[0m \u001b[0mthey\u001b[0m \u001b[0mare\u001b[0m \u001b[0mdone\u001b[0m \u001b[0;32mwith\u001b[0m \u001b[0mtheir\u001b[0m \u001b[0mpotential\u001b[0m \u001b[0mraises\u001b[0m\u001b[0;34m.\u001b[0m\u001b[0;34m\u001b[0m\u001b[0;34m\u001b[0m\u001b[0m\n\u001b[1;32m    221\u001b[0m         \"\"\"\n\u001b[0;32m--> 222\u001b[0;31m         self.handles = get_handle(\n\u001b[0m\u001b[1;32m    223\u001b[0m             \u001b[0msrc\u001b[0m\u001b[0;34m,\u001b[0m\u001b[0;34m\u001b[0m\u001b[0;34m\u001b[0m\u001b[0m\n\u001b[1;32m    224\u001b[0m             \u001b[0;34m\"r\"\u001b[0m\u001b[0;34m,\u001b[0m\u001b[0;34m\u001b[0m\u001b[0;34m\u001b[0m\u001b[0m\n",
      "\u001b[0;32m/opt/anaconda3/envs/stat542/lib/python3.9/site-packages/pandas/io/common.py\u001b[0m in \u001b[0;36mget_handle\u001b[0;34m(path_or_buf, mode, encoding, compression, memory_map, is_text, errors, storage_options)\u001b[0m\n\u001b[1;32m    700\u001b[0m         \u001b[0;32mif\u001b[0m \u001b[0mioargs\u001b[0m\u001b[0;34m.\u001b[0m\u001b[0mencoding\u001b[0m \u001b[0;32mand\u001b[0m \u001b[0;34m\"b\"\u001b[0m \u001b[0;32mnot\u001b[0m \u001b[0;32min\u001b[0m \u001b[0mioargs\u001b[0m\u001b[0;34m.\u001b[0m\u001b[0mmode\u001b[0m\u001b[0;34m:\u001b[0m\u001b[0;34m\u001b[0m\u001b[0;34m\u001b[0m\u001b[0m\n\u001b[1;32m    701\u001b[0m             \u001b[0;31m# Encoding\u001b[0m\u001b[0;34m\u001b[0m\u001b[0;34m\u001b[0m\u001b[0m\n\u001b[0;32m--> 702\u001b[0;31m             handle = open(\n\u001b[0m\u001b[1;32m    703\u001b[0m                 \u001b[0mhandle\u001b[0m\u001b[0;34m,\u001b[0m\u001b[0;34m\u001b[0m\u001b[0;34m\u001b[0m\u001b[0m\n\u001b[1;32m    704\u001b[0m                 \u001b[0mioargs\u001b[0m\u001b[0;34m.\u001b[0m\u001b[0mmode\u001b[0m\u001b[0;34m,\u001b[0m\u001b[0;34m\u001b[0m\u001b[0;34m\u001b[0m\u001b[0m\n",
      "\u001b[0;31mFileNotFoundError\u001b[0m: [Errno 2] No such file or directory: 'hw9_1.csv'"
     ]
    }
   ],
   "source": [
    "# Load the data generated from R\n",
    "data1 = pd.read_csv('hw9_1.csv')\n",
    "data1.columns = ['x1','x2','y']\n",
    "train1 = data1.iloc[:200,:]\n",
    "test1 = data1.iloc[200:,:]"
   ]
  },
  {
   "cell_type": "markdown",
   "metadata": {
    "id": "ikIpwV0Rcird"
   },
   "source": [
    "1a: Fit a ridge regression. Report the prediction error."
   ]
  },
  {
   "cell_type": "code",
   "execution_count": null,
   "metadata": {
    "colab": {
     "base_uri": "https://localhost:8080/"
    },
    "id": "IKHIT5QOazSx",
    "outputId": "c13b1b94-6db2-47f2-eeb2-05114138988d"
   },
   "outputs": [
    {
     "name": "stdout",
     "output_type": "stream",
     "text": [
      "The best lambda value is 12.1.\n",
      "The testing error is 3.2072.\n"
     ]
    }
   ],
   "source": [
    "lambdas_ = np.linspace(0.1,20,200)\n",
    "ridgecv = RidgeCV(alphas = lambdas_,cv=10)\n",
    "ridgecv.fit(train1.iloc[:,:2],train1.iloc[:,2])\n",
    "pred_ridgecv = ridgecv.predict(test1.iloc[:,:2])\n",
    "mse_ridgecv = mean_squared_error(test1.iloc[:,2],pred_ridgecv)\n",
    "print('The best lambda value is {}.'.format(np.round(ridgecv.alpha_,4)))\n",
    "print('The testing error is {}.'.format(np.round(mse_ridgecv,4)))"
   ]
  },
  {
   "cell_type": "markdown",
   "metadata": {
    "id": "14bAIUa1geej"
   },
   "source": [
    "1b: Compute the kernel matrix."
   ]
  },
  {
   "cell_type": "code",
   "execution_count": null,
   "metadata": {
    "id": "_FJcNt0Va81M"
   },
   "outputs": [],
   "source": [
    "def gaussian_kernel_matrix(train,sigma=1):\n",
    "  X = np.array(train.iloc[:,:2])\n",
    "  kernel_matrix = np.zeros((X.shape[0],X.shape[0]))\n",
    "  for i in range(X.shape[0]):\n",
    "    for j in range(X.shape[0]):\n",
    "      kernel_matrix[i,j] = np.exp(-np.linalg.norm(X[i,:]-X[j,:])**2/(2*sigma))\n",
    "  return kernel_matrix"
   ]
  },
  {
   "cell_type": "code",
   "execution_count": null,
   "metadata": {
    "id": "zhgunEpya90I"
   },
   "outputs": [],
   "source": [
    "# Obtain the training data kernel matrix K\n",
    "Ktrain = gaussian_kernel_matrix(train1)"
   ]
  },
  {
   "cell_type": "markdown",
   "metadata": {
    "id": "ghb50GBguqEl"
   },
   "source": [
    "1c: Get solution alpha."
   ]
  },
  {
   "cell_type": "markdown",
   "metadata": {
    "id": "HkAFWT5jy87C"
   },
   "source": [
    "We know one solution is\n",
    "\n",
    "\\begin{align}\n",
    "\\hat{\\alpha} = (K+n\\lambda\\mathbb{I})^{-1}y\n",
    "\\end{align}"
   ]
  },
  {
   "cell_type": "code",
   "execution_count": null,
   "metadata": {
    "id": "tkmwdiHTtNNA"
   },
   "outputs": [],
   "source": [
    "# Implement the soluton \n",
    "lambda_ = 0.01\n",
    "n = train1.shape[0]\n",
    "y = np.array(train1.iloc[:,2]).reshape(n,1)\n",
    "alpha_ = np.dot(np.linalg.inv(Ktrain+n*lambda_*np.eye(n)),y)"
   ]
  },
  {
   "cell_type": "markdown",
   "metadata": {
    "id": "jhBQUawf8-1W"
   },
   "source": [
    "1d: Get the kernel matrix for prediction."
   ]
  },
  {
   "cell_type": "code",
   "execution_count": null,
   "metadata": {
    "id": "Jwc0AbRgttgn"
   },
   "outputs": [],
   "source": [
    "# Modify the function \n",
    "def gaussian_kernel_matrix_new(train,test,sigma=1):\n",
    "  Xtrain = np.array(train.iloc[:,:2])\n",
    "  Xtest = np.array(test.iloc[:,:2])\n",
    "  kernel_matrix = np.zeros((Xtest.shape[0],Xtrain.shape[0]))\n",
    "  for i in range(Xtest.shape[0]):\n",
    "    for j in range(Xtrain.shape[0]):\n",
    "      kernel_matrix[i,j] = np.exp(-np.linalg.norm(Xtest[i,:]-Xtrain[j,:])**2/(2*sigma))\n",
    "  return kernel_matrix"
   ]
  },
  {
   "cell_type": "code",
   "execution_count": null,
   "metadata": {
    "id": "9bDsLUOatvS3"
   },
   "outputs": [],
   "source": [
    "# Obtain testing data kernel matrix\n",
    "Ktest = gaussian_kernel_matrix_new(train1,test1)"
   ]
  },
  {
   "cell_type": "markdown",
   "metadata": {
    "id": "CV4CXRKZIXk0"
   },
   "source": [
    "1e: Make predictions and get the prediction error."
   ]
  },
  {
   "cell_type": "code",
   "execution_count": null,
   "metadata": {
    "colab": {
     "base_uri": "https://localhost:8080/"
    },
    "id": "PGz7ZBy0ISWh",
    "outputId": "1d6c3ee6-0cc1-4cc4-caee-9fd989e2b85f"
   },
   "outputs": [
    {
     "name": "stdout",
     "output_type": "stream",
     "text": [
      "The testing error of kernel ridge regression is 0.7996.\n"
     ]
    }
   ],
   "source": [
    "# Make prediction and calculate mean squared error\n",
    "y_pred = np.dot(Ktest,alpha_)\n",
    "mse_kernelridge = mean_squared_error(np.array(test1.iloc[:,2]),y_pred)\n",
    "print('The testing error of kernel ridge regression is {}.'.format(np.round(mse_kernelridge,4)))"
   ]
  },
  {
   "cell_type": "markdown",
   "metadata": {
    "id": "dsyu9wO7czmJ"
   },
   "source": [
    "The testing error from kernel ridge regression is much lower than the one from the ridge regression."
   ]
  },
  {
   "cell_type": "markdown",
   "metadata": {
    "id": "ZhRnzDuabgKu"
   },
   "source": [
    "**Answer to Question 2**"
   ]
  },
  {
   "cell_type": "code",
   "execution_count": null,
   "metadata": {
    "id": "9BFQYanebiIU"
   },
   "outputs": [],
   "source": [
    "# List of packages used\n",
    "import matplotlib.pyplot as plt\n",
    "import numpy as np\n",
    "import pandas as pd\n",
    "import scipy.optimize as optimize\n",
    "import seaborn as sns\n",
    "\n",
    "from sklearn.metrics import accuracy_score,confusion_matrix"
   ]
  },
  {
   "cell_type": "code",
   "execution_count": null,
   "metadata": {
    "id": "H9_-F6s9blg2"
   },
   "outputs": [],
   "source": [
    "# Load the data generated from R\n",
    "data2 = pd.read_csv('hw9_2.csv')\n",
    "data2.columns = ['x1','x2','y']\n",
    "train2 = data2.iloc[:200,:]\n",
    "test2 = data2.iloc[200:,:]"
   ]
  },
  {
   "cell_type": "markdown",
   "metadata": {
    "id": "YJvXG1_4l5xe"
   },
   "source": [
    "2a: Write a penalized loss function."
   ]
  },
  {
   "cell_type": "code",
   "execution_count": null,
   "metadata": {
    "id": "kV_xzTlkbp7Q"
   },
   "outputs": [],
   "source": [
    "def svm_func(b,K,y,lambda_):\n",
    "  loss = 0\n",
    "  n = K.shape[1]\n",
    "  for i in range(n):\n",
    "    loss += np.log(1+np.exp(-y[i]*np.dot(K[:,i].T,b)))/n\n",
    "  loss += lambda_*np.dot(np.dot(b.T,K),b)\n",
    "  return loss"
   ]
  },
  {
   "cell_type": "markdown",
   "metadata": {
    "id": "ioSroKdsqrBx"
   },
   "source": [
    "2b: Derive the gradient and implement it."
   ]
  },
  {
   "cell_type": "markdown",
   "metadata": {
    "id": "nBOQRjXerLkR"
   },
   "source": [
    "The objective function is\n",
    "\n",
    "\\begin{align}\n",
    "\\min_b L(b) = \\frac{1}{n}\\sum_{i=1}^n \\log(1+\\exp(-y_i K_i^T b))+\\lambda b^T K b\n",
    "\\end{align}\n",
    "\n",
    "The gradient is\n",
    "\n",
    "\\begin{align}\n",
    "\\frac{\\partial}{\\partial b}L(b) = -\\frac{1}{n}\\sum_{i=1}^n(1-\\sigma(y_i K_i^Tb))y_i K_i+2\\lambda K b\n",
    "\\end{align}"
   ]
  },
  {
   "cell_type": "code",
   "execution_count": null,
   "metadata": {
    "id": "q7JWEd64qpqt"
   },
   "outputs": [],
   "source": [
    "def sigmoid(z):\n",
    "  return 1/(1+np.exp(-z))\n",
    "\n",
    "def svm_gradient(b,K,y,lambda_):\n",
    "  n = K.shape[0]\n",
    "  grad = np.zeros(n)\n",
    "  for i in range(n):\n",
    "    z = y[i]*np.dot(K[:,i].T,b)\n",
    "    grad += -(1-sigmoid(z))*y[i]*K[:,i]\n",
    "  grad += 2*lambda_*np.dot(K,b)\n",
    "  return grad"
   ]
  },
  {
   "cell_type": "markdown",
   "metadata": {
    "id": "9g8x_-ay2u84"
   },
   "source": [
    "2c: Solve the optimization problem. Report loss function, training data confusion table, and training data misclassification rate."
   ]
  },
  {
   "cell_type": "code",
   "execution_count": null,
   "metadata": {
    "id": "xCe9n0tV2pOI"
   },
   "outputs": [],
   "source": [
    "# Get the kernel matrix\n",
    "K = gaussian_kernel_matrix(train2,sigma=0.2)\n",
    "\n",
    "# Solve the optimization problem\n",
    "lambda_ = 0.01\n",
    "n = train2.shape[0]\n",
    "initial_guess = np.zeros((n,1))\n",
    "y = np.array(train2.iloc[:,2])\n",
    "sol = optimize.minimize(svm_func,initial_guess,args=(K,y,lambda_),method='BFGS',jac=svm_gradient)\n",
    "\n",
    "# Parameter values\n",
    "b = (sol.x).reshape(n,1)"
   ]
  },
  {
   "cell_type": "markdown",
   "metadata": {
    "id": "-oxhZsCJ5tE3"
   },
   "source": [
    "The optimal loss function is obtained by plugging in the $b$ values obtained above. Since its dimension is $200\\times 1$, the values are not printed here."
   ]
  },
  {
   "cell_type": "code",
   "execution_count": null,
   "metadata": {
    "colab": {
     "base_uri": "https://localhost:8080/"
    },
    "id": "zrs-_0Yl4ISc",
    "outputId": "b010d691-726f-416e-9228-059b49900ce5"
   },
   "outputs": [
    {
     "name": "stdout",
     "output_type": "stream",
     "text": [
      "The confusion matrix is \n",
      "    0    1\n",
      "0  76    6\n",
      "1   4  114.\n"
     ]
    }
   ],
   "source": [
    "# Prediction using the training data\n",
    "vals_train = np.dot(b.T,K).flatten()\n",
    "y_train_pred = np.array([1 if val>=0 else -1 for val in vals_train])\n",
    "\n",
    "# Get the confusion matrix\n",
    "confusion = pd.DataFrame(confusion_matrix(y,y_train_pred))\n",
    "print('The confusion matrix is \\n{}.'.format(confusion))"
   ]
  },
  {
   "cell_type": "code",
   "execution_count": null,
   "metadata": {
    "colab": {
     "base_uri": "https://localhost:8080/"
    },
    "id": "edm3y2qO4M-E",
    "outputId": "bcb531cd-766c-419b-a60b-c809ce9926d0"
   },
   "outputs": [
    {
     "name": "stdout",
     "output_type": "stream",
     "text": [
      "The training data misclassification rate is 0.05.\n"
     ]
    }
   ],
   "source": [
    "# Training misclassification rate\n",
    "misclass_rate_train = 1-accuracy_score(y,y_train_pred) \n",
    "print('The training data misclassification rate is {}.'.format(np.round(misclass_rate_train,4)))"
   ]
  },
  {
   "cell_type": "markdown",
   "metadata": {
    "id": "XNonM_F_9NhL"
   },
   "source": [
    "2d: Get the predicted testing data labels and plot."
   ]
  },
  {
   "cell_type": "code",
   "execution_count": null,
   "metadata": {
    "colab": {
     "base_uri": "https://localhost:8080/"
    },
    "id": "RkKMdNiD6zgZ",
    "outputId": "2cbcc18b-0f01-4291-dad1-dcdbda2c405a"
   },
   "outputs": [
    {
     "name": "stdout",
     "output_type": "stream",
     "text": [
      "The testing data misclassification rate is 0.09.\n"
     ]
    }
   ],
   "source": [
    "# Get the kernel matrix for testing data\n",
    "K = gaussian_kernel_matrix_new(train2,test2,sigma=0.2)\n",
    "\n",
    "# Prediction\n",
    "vals_test = np.dot(K,b).flatten()\n",
    "y_test_pred = np.array([1 if val>=0 else -1 for val in vals_test])\n",
    "\n",
    "# Misclassification rate\n",
    "misclass_rate_test = 1-accuracy_score(np.array(test2.iloc[:,2]),y_test_pred)\n",
    "print('The testing data misclassification rate is {}.'.format(np.round(misclass_rate_test,4)))"
   ]
  },
  {
   "cell_type": "code",
   "execution_count": null,
   "metadata": {
    "colab": {
     "base_uri": "https://localhost:8080/",
     "height": 279
    },
    "id": "u2Gg3n9x9B1f",
    "outputId": "7bd7c445-c254-4d7d-c404-77729a4a816c"
   },
   "outputs": [
    {
     "data": {
      "image/png": "[encoded data removed]",
      "text/plain": [
       "<Figure size 432x288 with 1 Axes>"
      ]
     },
     "metadata": {
      "needs_background": "light"
     },
     "output_type": "display_data"
    }
   ],
   "source": [
    "plot_data = test2.copy()\n",
    "plot_data['predicted_label'] = y_test_pred\n",
    "\n",
    "decision_x1 = np.linspace(plot_data['x1'].min(),plot_data['x1'].max(),600)\n",
    "decision_x2 = np.sin(np.pi*decision_x1)\n",
    "\n",
    "sns.scatterplot(x='x1',y='x2',hue='predicted_label',data=plot_data,legend=None)\n",
    "sns.lineplot(x=decision_x1,y=decision_x2)\n",
    "plt.show()"
   ]
  }
 ],
 "metadata": {
  "colab": {
   "collapsed_sections": [],
   "name": "HW09_yangyue3.ipynb",
   "provenance": []
  },
  "kernelspec": {
   "display_name": "Python 3 (ipykernel)",
   "language": "python",
   "name": "python3"
  },
  "language_info": {
   "codemirror_mode": {
    "name": "ipython",
    "version": 3
   },
   "file_extension": ".py",
   "mimetype": "text/x-python",
   "name": "python",
   "nbconvert_exporter": "python",
   "pygments_lexer": "ipython3",
   "version": "3.9.7"
  }
 },
 "nbformat": 4,
 "nbformat_minor": 1
}
