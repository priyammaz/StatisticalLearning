{
 "cells": [
  {
   "cell_type": "markdown",
   "id": "edd95b5e",
   "metadata": {},
   "source": [
    "## Homework 4\n",
    "\n",
    "#### Name: Priyam Mazumdar\n",
    "#### NetID: priyamm2"
   ]
  },
  {
   "cell_type": "code",
   "execution_count": 1,
   "id": "de161440",
   "metadata": {},
   "outputs": [],
   "source": [
    "### Load Packages ###\n",
    "import numpy as np\n",
    "from sklearn.linear_model import LinearRegression\n",
    "import matplotlib.pyplot as plt\n",
    "import scipy.optimize as optimize\n",
    "from sklearn.metrics import mean_squared_error\n",
    "import pandas as pd"
   ]
  },
  {
   "cell_type": "code",
   "execution_count": 2,
   "id": "287f2a51",
   "metadata": {},
   "outputs": [],
   "source": [
    "# Generate Data\n",
    "np.random.seed(542)\n",
    "n = 150\n",
    "x = np.random.uniform(low=0, high=1, size=(n, 1))\n",
    "X = np.hstack([np.ones(shape=(150,1)), x])\n",
    "args = np.array([0.5, 1])\n",
    "y = X.dot(args) + np.random.standard_normal(150)\n",
    "y[x.argmin()] = -30"
   ]
  },
  {
   "cell_type": "markdown",
   "id": "5561dd2f",
   "metadata": {},
   "source": [
    "### Problem 1\n",
    "a) [5 pts] Fit an OLS model with the regular ℓ2\n",
    " loss. Report your coefficients (do not report other information). Although this is only one set of samples, but do you expect this estimator to be biased based on how we set up the observed data? Do you expect the parameter β1\n",
    " to bias upwards or downwards? Explain your reason. Hint: is the outlier pulling the regression line slope up or down?"
   ]
  },
  {
   "cell_type": "code",
   "execution_count": 3,
   "id": "66468029",
   "metadata": {
    "scrolled": true
   },
   "outputs": [
    {
     "name": "stdout",
     "output_type": "stream",
     "text": [
      "OLS Parameters B0: -0.32252335404905885 B1: 2.199452488577025\n"
     ]
    }
   ],
   "source": [
    "def OLS(X, y):\n",
    "    return np.linalg.inv(X.T.dot(X)).dot(X.T).dot(y)\n",
    " \n",
    "coefficients = OLS(X, y)\n",
    "print(\"OLS Parameters B0:\", coefficients[0], \"B1:\", coefficients[1])"
   ]
  },
  {
   "cell_type": "markdown",
   "id": "f802295d",
   "metadata": {},
   "source": [
    "The presence of this outlier will cause a major bias in our parameters and the regression model will poorly predict the training data. We can expect the outlier to bias our $\\beta_1$ upwards. The reason for this is we set our minimum X as -30 which will force our leftside of the regression line downwards to minimize OLS. "
   ]
  },
  {
   "cell_type": "markdown",
   "id": "a59152ec",
   "metadata": {},
   "source": [
    "\n",
    "b) [10 pts] Define your own Huber loss function huberLoss(b, trainX, trainY) given a set of observed data with tuning parameter δ=1\n",
    ". Here, b is a p\n",
    "-dim parameter vector, trainX is a n×p\n",
    " design matrix and trainY\n",
    " is the outcome. This function should return a scalar as the empirical loss. You can use our Huber function in your own code. After defining this loss function, use the optim() function to solve the parameter estimates. Finally, report your coefficients."
   ]
  },
  {
   "cell_type": "code",
   "execution_count": 4,
   "id": "11edab5b",
   "metadata": {},
   "outputs": [
    {
     "name": "stdout",
     "output_type": "stream",
     "text": [
      "Optimizer Parameters B0: 0.42098531186094384 B1: 1.0660410224987118\n",
      "Huber Loss from Optimize Parameters 0.5481708305815473\n"
     ]
    }
   ],
   "source": [
    "class HuberLoss:\n",
    "    def __init__(self, trainX, trainY):\n",
    "        self.train_X = trainX\n",
    "        self.train_y = trainY\n",
    "        self.b_guess = [0,0]\n",
    "        self.delta = 1\n",
    "    \n",
    "    def loss(self, b):\n",
    "        b = np.array(b)\n",
    "        diff = self.train_y - self.train_X.dot(b)\n",
    "        # MSE Loss if less than delta\n",
    "        diff[np.where(abs(diff)<=self.delta)] = 0.5*diff[np.where(abs(diff)<=self.delta)]**2\n",
    "        # ABS Loss if greater than delta\n",
    "        diff[np.where(abs(diff)>self.delta)] = self.delta*np.abs(diff[np.where(abs(diff)>self.delta)]) - self.delta/2\n",
    "\n",
    "        return np.mean(diff)\n",
    "    \n",
    "    def optimize(self):\n",
    "        result = optimize.minimize(self.loss, self.b_guess, method=\"BFGS\")\n",
    "        return result.x\n",
    "\n",
    "HL = HuberLoss(X, y)\n",
    "optimized_parameters = HL.optimize()\n",
    "print(\"Optimizer Parameters B0:\", optimized_parameters[0], \"B1:\", optimized_parameters[1])\n",
    "print(\"Huber Loss from Optimize Parameters\", HL.loss(optimized_parameters))\n",
    "\n"
   ]
  },
  {
   "cell_type": "markdown",
   "id": "21788bd5",
   "metadata": {},
   "source": [
    "c) [20 pts] We still do not know which method performs better in this case. Let’s use a simulation study to compare the two methods. Complete the following\n",
    "\n",
    "Set up a simulation for 1000 times. At each time, randomly generate a set of observed data, but also force the outlier with our code y[which.min(X[, 2])] = -30.\n",
    "Fit the regression model with ℓ2 loss and Huber loss, and record the slope variable estimates.\n",
    "Make a side-by-side boxplot to show how these two methods differ in terms of the estimations. Which method seem to have more bias? and report the amount of bias based on your simulation. What can you conclude from the results? Does this match your expectation in part a)? Can you explain this (both OLS and Huber) with the form of loss function, in terms of what their effects are?\n"
   ]
  },
  {
   "cell_type": "code",
   "execution_count": 5,
   "id": "fd307055",
   "metadata": {},
   "outputs": [],
   "source": [
    "def gen_data():\n",
    "    n = 150\n",
    "    x = np.random.uniform(low=0, high=1, size=(n, 1))\n",
    "    X = np.hstack([np.ones(shape=(150,1)), x])\n",
    "    args = np.array([0.5, 1])\n",
    "    y = X.dot(args) + np.random.standard_normal(150)\n",
    "    y[x.argmin()] = -30\n",
    "    \n",
    "    return X, y\n",
    "\n",
    "ols = []\n",
    "huber = []\n",
    "for i in range(1000):\n",
    "    X, y = gen_data()\n",
    "    ### OLS Estimate ###\n",
    "    ols_coeff = np.linalg.inv(X.T.dot(X)).dot(X.T).dot(y)\n",
    "    ols.append(list(ols_coeff))\n",
    "    \n",
    "    ### Huber Loss ###\n",
    "    HL = HuberLoss(X, y)\n",
    "    optimized_parameters = HL.optimize()\n",
    "    huber.append(list(optimized_parameters))\n",
    "    "
   ]
  },
  {
   "cell_type": "code",
   "execution_count": 6,
   "id": "5c77bbfe",
   "metadata": {},
   "outputs": [
    {
     "name": "stdout",
     "output_type": "stream",
     "text": [
      "Bias of B1 from Huber: 0.06785150427398223\n",
      "Bias of B1 from OLS: 1.2224467438278563\n"
     ]
    }
   ],
   "source": [
    "### Calculate Bias\n",
    "avg_b1_huber = np.array(huber).mean(axis=0)[1]\n",
    "avg_b1_ols = np.array(ols).mean(axis=0)[1]\n",
    "print(\"Bias of B1 from Huber: {}\".format(avg_b1_huber - 1))\n",
    "print(\"Bias of B1 from OLS: {}\".format(avg_b1_ols - 1))"
   ]
  },
  {
   "cell_type": "code",
   "execution_count": 7,
   "id": "b85d3638",
   "metadata": {},
   "outputs": [
    {
     "data": {
      "image/png": "[encoded data removed]",
      "text/plain": [
       "<Figure size 432x288 with 1 Axes>"
      ]
     },
     "metadata": {
      "needs_background": "light"
     },
     "output_type": "display_data"
    }
   ],
   "source": [
    "coeff_estimates = pd.DataFrame(np.hstack([np.array(ols)[:, 1].reshape(1000,1),np.array(huber)[:, 1].reshape(1000,1)]))\n",
    "coeff_estimates.columns = [\"ols_b1\", \"huber_b1\"]\n",
    "coeff_estimates.boxplot()\n",
    "plt.title(\"Coefficients from OLS and Huber Loss\")\n",
    "plt.show()"
   ]
  },
  {
   "cell_type": "markdown",
   "id": "babf36da",
   "metadata": {},
   "source": [
    "We can clearly tell that our OLS Regression had much more bias than huber (Huber has a bias of 0.076 wherease OLS had a bias of 1.23 for our B1 term). We would expect our model intercept to be around 0.5 with a slope of 1, as we indicated in the toy model, and OLS greatly deviated from this, whereas Huber was much closer to our expectation. Therefore we can say that OLS is very sensitive to outliers. This behavior is also expected from our loss functions, as OLS would put a massive penalty on our outlier, making it a point of high leverage on the regression. Huber on the other hand is able to handle our outliers by not putting large penalties on them, therefore giving more reliable coefficients that are representative of the data."
   ]
  },
  {
   "cell_type": "markdown",
   "id": "a45eb532",
   "metadata": {},
   "source": [
    "### Problem 2\n",
    "\n",
    "a) [10 pts] Fit an OLS estimator with the original data Y_org and X_org by lm(). Also, fit another OLS with scaled data by lm(). Report the coefficients/parameters. Then, transform coefficients from the second approach back to its original scale, and match with the first approach. Summarize your results in a single table: The rows should contain three methods: OLS, OLS Scaled, and OLS Recovered, and there should be four columns that represents the coefficients for each method. You can consider using the kable function, but it is not required."
   ]
  },
  {
   "cell_type": "code",
   "execution_count": 8,
   "id": "ca9dbb30",
   "metadata": {},
   "outputs": [
    {
     "data": {
      "text/html": [
       "<div>\n",
       "<style scoped>\n",
       "    .dataframe tbody tr th:only-of-type {\n",
       "        vertical-align: middle;\n",
       "    }\n",
       "\n",
       "    .dataframe tbody tr th {\n",
       "        vertical-align: top;\n",
       "    }\n",
       "\n",
       "    .dataframe thead th {\n",
       "        text-align: right;\n",
       "    }\n",
       "</style>\n",
       "<table border=\"1\" class=\"dataframe\">\n",
       "  <thead>\n",
       "    <tr style=\"text-align: right;\">\n",
       "      <th></th>\n",
       "      <th>B0</th>\n",
       "      <th>B1</th>\n",
       "      <th>B2</th>\n",
       "      <th>B3</th>\n",
       "    </tr>\n",
       "  </thead>\n",
       "  <tbody>\n",
       "    <tr>\n",
       "      <th>Unscaled</th>\n",
       "      <td>0.13069</td>\n",
       "      <td>0.73809</td>\n",
       "      <td>2.47960</td>\n",
       "      <td>0.11529</td>\n",
       "    </tr>\n",
       "    <tr>\n",
       "      <th>Scaled</th>\n",
       "      <td>-0.00000</td>\n",
       "      <td>0.36418</td>\n",
       "      <td>0.77557</td>\n",
       "      <td>0.04084</td>\n",
       "    </tr>\n",
       "    <tr>\n",
       "      <th>Recovered</th>\n",
       "      <td>0.13069</td>\n",
       "      <td>0.73809</td>\n",
       "      <td>2.47960</td>\n",
       "      <td>0.11529</td>\n",
       "    </tr>\n",
       "  </tbody>\n",
       "</table>\n",
       "</div>"
      ],
      "text/plain": [
       "                B0       B1       B2       B3\n",
       "Unscaled   0.13069  0.73809  2.47960  0.11529\n",
       "Scaled    -0.00000  0.36418  0.77557  0.04084\n",
       "Recovered  0.13069  0.73809  2.47960  0.11529"
      ]
     },
     "metadata": {},
     "output_type": "display_data"
    }
   ],
   "source": [
    "### Generate Data ###\n",
    "np.random.seed(10)\n",
    "n = 20\n",
    "p = 3\n",
    "\n",
    "V = np.repeat(0.3, 9).reshape(3,3)\n",
    "np.fill_diagonal(V, 1)\n",
    "\n",
    "true_b = np.array([1, 2, 0])\n",
    "X_org = np.random.multivariate_normal(np.repeat(0,3), V, size=n)\n",
    "Y_org = X_org.dot(true_b) + np.random.standard_normal(size=20)\n",
    "\n",
    "X_scaled = ((X_org - X_org.mean(axis=0)) / X_org.std(axis=0))\n",
    "y_scaled  = ((Y_org - Y_org.mean(axis=0))/Y_org.std(axis=0))\n",
    "\n",
    "# Least Squares of UnScaled Data\n",
    "least_squared_unscsaled = LinearRegression().fit(X_org, Y_org)\n",
    "least_squared_coef_unscaled= np.hstack([least_squared_unscsaled.intercept_, least_squared_unscsaled.coef_])\n",
    "# # Least Squares of Scaled Data\n",
    "least_squared_scaled = LinearRegression().fit(X_scaled, y_scaled)\n",
    "least_squared_coef_scaled= np.hstack([least_squared_scaled.intercept_, least_squared_scaled.coef_])\n",
    "\n",
    "# Recover original Coefficients\n",
    "y_org_std = Y_org.std()\n",
    "y_org_mu = Y_org.mean()\n",
    "\n",
    "b0 = y_org_mu - sum([X_org[:, i].mean()*y_org_std*least_squared_coef_scaled[i+1]/X_org[:, i].std() \n",
    "                      for i in range(len(least_squared_coef_scaled)-1)])\n",
    "\n",
    "b1, b2, b3 = [y_org_std*least_squared_coef_scaled[i+1]/X_org[:, i].std() \n",
    "                      for i in range(len(least_squared_coef_scaled)-1)] \n",
    "\n",
    "recovered_coef = [b0, b1, b2, b3]\n",
    "\n",
    "coeff_table = np.array([list(least_squared_coef_unscaled), list(least_squared_coef_scaled), list(recovered_coef)])\n",
    "coeff = pd.DataFrame(coeff_table).round(5)\n",
    "coeff.columns = [\"B0\", \"B1\", \"B2\", \"B3\"]\n",
    "coeff.index = [\"Unscaled\", \"Scaled\", \"Recovered\"]\n",
    "\n",
    "display(coeff)"
   ]
  },
  {
   "cell_type": "markdown",
   "id": "faacab7d",
   "metadata": {},
   "source": [
    "As we can see, we were able to fully recover the original coefficients on unscaled data by reconstructing the coefficients from our scaled data.\n",
    "\n",
    "### Part B"
   ]
  },
  {
   "cell_type": "markdown",
   "id": "36635549",
   "metadata": {},
   "source": [
    "**Coodinate Descent Derivation**\n",
    "\n",
    "$$L(\\beta) = \\sum_{i=1}^n(y_i - \\sum_{j=0}^pX_{ij}\\beta_{j})^2$$\n",
    "\n",
    "$$\\frac{\\partial L(\\beta)}{\\partial \\beta_j} = -2\\sum_{i=1}^n(y_i - \\sum_{j=0}^pX_{ij}\\beta_{j})x_{ij} = 0$$\n",
    "\n",
    "$$-2\\sum_{i=1}^n(y_i - x_{ij}\\beta_j - \\sum_{k\\not=j}^px_{ik}\\beta_{k})x_{ij} = 0$$\n",
    "\n",
    "$$\\beta_j = \\frac{\\sum_{i=1}^nx_{ij}(y_i - \\sum_{k\\not=j}^px_{ik}\\beta_{k})}{\\sum_{i=1}^nx_{ij}^2}$$\n",
    "\n",
    "We can treat the term $(y_i - \\sum_{k\\not=j}^px_{ik}\\beta_{k})$ as removing the effects of all other terms except for our target predictor j\n",
    "\n",
    "\n",
    "### Part C"
   ]
  },
  {
   "cell_type": "code",
   "execution_count": 17,
   "id": "29a17345",
   "metadata": {},
   "outputs": [
    {
     "name": "stdout",
     "output_type": "stream",
     "text": [
      "(2,)\n",
      "(2,)\n",
      "(2,)\n",
      "(2,)\n",
      "(2,)\n",
      "(2,)\n",
      "(2,)\n",
      "(2,)\n",
      "(2,)\n",
      "(2,)\n",
      "(2,)\n",
      "(2,)\n",
      "(2,)\n",
      "(2,)\n",
      "(2,)\n",
      "(2,)\n",
      "(2,)\n",
      "(2,)\n",
      "(2,)\n",
      "(2,)\n",
      "(2,)\n",
      "(2,)\n",
      "(2,)\n",
      "(2,)\n",
      "(2,)\n",
      "(2,)\n",
      "(2,)\n",
      "Finished in 9 Iterations\n",
      "---Optimized Parameters---\n",
      "B1: 0.3642 B2: 0.7756 B3: 0.0408\n",
      "Loss: 2.795071565502311\n"
     ]
    }
   ],
   "source": [
    "def coordinate_descent(X, y, iterations=100, tol=1e-7):\n",
    "    n, p = X.shape\n",
    "    curr_beta = [0 for i in range(p)]\n",
    "    beta_list = [0,0,0]\n",
    "    loss_list = []\n",
    "    counter = 0\n",
    "    while True:\n",
    "        for j in range(p):\n",
    "            x_wo_j = np.delete(X, j, axis=1)\n",
    "            b_wo_j = np.delete(np.array(curr_beta), j)\n",
    "            x_j = X[:, j]\n",
    "            \n",
    "            curr_beta[j] = (x_j@(y - x_wo_j@b_wo_j)) / (x_j.T@x_j)\n",
    "            print((b_wo_j).shape)\n",
    "            beta_list.append(curr_beta[j])\n",
    "        counter += 1    \n",
    "        loss_list.append(np.sum((y - X@curr_beta)**2))\n",
    "        if (counter >= iterations): \n",
    "            break\n",
    "            \n",
    "        if abs(np.sum(np.array(beta_list)[-6:-3] - np.array(beta_list)[-3:])) < tol:\n",
    "            print(f\"Finished in {counter} Iterations\")\n",
    "            break\n",
    "            \n",
    "\n",
    "             \n",
    "    beta_list = np.array(beta_list).reshape(-1,3)\n",
    "        \n",
    "    print(\"---Optimized Parameters---\")\n",
    "    print(\"B1:\",round(beta_list[-1][0], 4), \"B2:\",round(beta_list[-1][1],4), \"B3:\", round(beta_list[-1][2], 4))\n",
    "    print(\"Loss:\", loss_list[-1])\n",
    "    return beta_list, loss_list\n",
    "        \n",
    "        \n",
    "betas, loss = coordinate_descent(X_scaled, y_scaled) "
   ]
  },
  {
   "cell_type": "markdown",
   "id": "6079d99f",
   "metadata": {},
   "source": [
    "We can see that our coordinate descent returned the exact values we recived from running OLS on our scaled data previously.\n",
    "\n",
    "### Part D"
   ]
  },
  {
   "cell_type": "code",
   "execution_count": 10,
   "id": "1f4ea7de",
   "metadata": {},
   "outputs": [
    {
     "data": {
      "image/png": "[encoded data removed]",
      "text/plain": [
       "<Figure size 432x288 with 1 Axes>"
      ]
     },
     "metadata": {
      "needs_background": "light"
     },
     "output_type": "display_data"
    }
   ],
   "source": [
    "actual_loss = np.sum((y_scaled - least_squared_scaled.predict(X_scaled))**2)\n",
    "convergence = [np.log(loss[i] - actual_loss) for i in range(len(loss))]\n",
    "plt.plot(list(range(1, len(convergence)+1)), convergence)\n",
    "plt.title(\"Log Convergence\")\n",
    "plt.ylabel(\"Loss\")\n",
    "plt.xlabel(\"Iterations\")\n",
    "plt.show()\n"
   ]
  },
  {
   "cell_type": "markdown",
   "id": "d4c15e32",
   "metadata": {},
   "source": [
    "We can see that our coordinate descent algorithm has a linear convergence rate."
   ]
  }
 ],
 "metadata": {
  "kernelspec": {
   "display_name": "Python 3 (ipykernel)",
   "language": "python",
   "name": "python3"
  },
  "language_info": {
   "codemirror_mode": {
    "name": "ipython",
    "version": 3
   },
   "file_extension": ".py",
   "mimetype": "text/x-python",
   "name": "python",
   "nbconvert_exporter": "python",
   "pygments_lexer": "ipython3",
   "version": "3.9.7"
  }
 },
 "nbformat": 4,
 "nbformat_minor": 5
}
