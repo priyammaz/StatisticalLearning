{
 "cells": [
  {
   "cell_type": "markdown",
   "id": "13d3935f",
   "metadata": {},
   "source": [
    "# Homework 2\n",
    "Name: Priyam Mazumdar\n",
    "\n",
    "NetID: priyamm2"
   ]
  },
  {
   "cell_type": "code",
   "execution_count": 1,
   "id": "67e2d869",
   "metadata": {},
   "outputs": [],
   "source": [
    "# Import packages\n",
    "import pandas as pd\n",
    "import numpy as np\n",
    "import random\n",
    "import matplotlib.pyplot as plt\n",
    "from sklearn.neighbors import KNeighborsClassifier, KNeighborsRegressor\n",
    "from sklearn.metrics import mean_squared_error\n",
    "from sklearn.model_selection import GridSearchCV"
   ]
  },
  {
   "cell_type": "code",
   "execution_count": 2,
   "id": "4b011c6f",
   "metadata": {},
   "outputs": [
    {
     "data": {
      "text/html": [
       "<div>\n",
       "<style scoped>\n",
       "    .dataframe tbody tr th:only-of-type {\n",
       "        vertical-align: middle;\n",
       "    }\n",
       "\n",
       "    .dataframe tbody tr th {\n",
       "        vertical-align: top;\n",
       "    }\n",
       "\n",
       "    .dataframe thead th {\n",
       "        text-align: right;\n",
       "    }\n",
       "</style>\n",
       "<table border=\"1\" class=\"dataframe\">\n",
       "  <thead>\n",
       "    <tr style=\"text-align: right;\">\n",
       "      <th></th>\n",
       "      <th>Pregnancies</th>\n",
       "      <th>Glucose</th>\n",
       "      <th>BloodPressure</th>\n",
       "      <th>SkinThickness</th>\n",
       "      <th>Insulin</th>\n",
       "      <th>BMI</th>\n",
       "      <th>DiabetesPedigreeFunction</th>\n",
       "      <th>Age</th>\n",
       "      <th>Outcome</th>\n",
       "    </tr>\n",
       "  </thead>\n",
       "  <tbody>\n",
       "    <tr>\n",
       "      <th>0</th>\n",
       "      <td>6</td>\n",
       "      <td>148</td>\n",
       "      <td>72</td>\n",
       "      <td>35</td>\n",
       "      <td>0</td>\n",
       "      <td>33.6</td>\n",
       "      <td>0.627</td>\n",
       "      <td>50</td>\n",
       "      <td>1</td>\n",
       "    </tr>\n",
       "    <tr>\n",
       "      <th>1</th>\n",
       "      <td>1</td>\n",
       "      <td>85</td>\n",
       "      <td>66</td>\n",
       "      <td>29</td>\n",
       "      <td>0</td>\n",
       "      <td>26.6</td>\n",
       "      <td>0.351</td>\n",
       "      <td>31</td>\n",
       "      <td>0</td>\n",
       "    </tr>\n",
       "    <tr>\n",
       "      <th>2</th>\n",
       "      <td>8</td>\n",
       "      <td>183</td>\n",
       "      <td>64</td>\n",
       "      <td>0</td>\n",
       "      <td>0</td>\n",
       "      <td>23.3</td>\n",
       "      <td>0.672</td>\n",
       "      <td>32</td>\n",
       "      <td>1</td>\n",
       "    </tr>\n",
       "    <tr>\n",
       "      <th>3</th>\n",
       "      <td>1</td>\n",
       "      <td>89</td>\n",
       "      <td>66</td>\n",
       "      <td>23</td>\n",
       "      <td>94</td>\n",
       "      <td>28.1</td>\n",
       "      <td>0.167</td>\n",
       "      <td>21</td>\n",
       "      <td>0</td>\n",
       "    </tr>\n",
       "    <tr>\n",
       "      <th>4</th>\n",
       "      <td>0</td>\n",
       "      <td>137</td>\n",
       "      <td>40</td>\n",
       "      <td>35</td>\n",
       "      <td>168</td>\n",
       "      <td>43.1</td>\n",
       "      <td>2.288</td>\n",
       "      <td>33</td>\n",
       "      <td>1</td>\n",
       "    </tr>\n",
       "  </tbody>\n",
       "</table>\n",
       "</div>"
      ],
      "text/plain": [
       "   Pregnancies  Glucose  BloodPressure  SkinThickness  Insulin   BMI  \\\n",
       "0            6      148             72             35        0  33.6   \n",
       "1            1       85             66             29        0  26.6   \n",
       "2            8      183             64              0        0  23.3   \n",
       "3            1       89             66             23       94  28.1   \n",
       "4            0      137             40             35      168  43.1   \n",
       "\n",
       "   DiabetesPedigreeFunction  Age  Outcome  \n",
       "0                     0.627   50        1  \n",
       "1                     0.351   31        0  \n",
       "2                     0.672   32        1  \n",
       "3                     0.167   21        0  \n",
       "4                     2.288   33        1  "
      ]
     },
     "execution_count": 2,
     "metadata": {},
     "output_type": "execute_result"
    }
   ],
   "source": [
    "# Read in Dataset\n",
    "data = pd.read_csv(\"diabetes.csv\")\n",
    "data.head()"
   ]
  },
  {
   "cell_type": "code",
   "execution_count": 8,
   "id": "ae724fcb",
   "metadata": {},
   "outputs": [
    {
     "name": "stdout",
     "output_type": "stream",
     "text": [
      "768\n"
     ]
    }
   ],
   "source": [
    "# Split data in train and test\n",
    "random.seed(2)\n",
    "\n",
    "index = list(range(len(data)))\n",
    "train_index = random.sample(index, len(index)//2)\n",
    "test_index = [i for i in index if i not in train_index]\n",
    "\n",
    "train_data, test_data = data.iloc[train_index].reset_index(drop=True), data.iloc[test_index].reset_index(drop=True)\n",
    "\n",
    "train_X, train_y = np.array(train_data.drop(columns=\"Outcome\").values), np.array(train_data[\"Outcome\"].values)\n",
    "test_X, test_y = np.array(test_data.drop(columns=\"Outcome\").values), np.array(test_data[\"Outcome\"].values)"
   ]
  },
  {
   "cell_type": "markdown",
   "id": "39208747",
   "metadata": {},
   "source": [
    "## Question 1 \n",
    "\n",
    "Load the Pima Indians Diabetes Database (`PimaIndiansDiabetes`) from the `mlbench` package. If you don't already have this package installed, use the following code. It also randomly splits the data into training and testing. You should preserve this split in the analysis. \n",
    "\n",
    "Read the documentation of this dataset [here](https://cran.r-project.org/web/packages/mlbench/mlbench.pdf) and make sure that you understand the goal of this classification problem. \n",
    "\n",
    "Use a grid of $k$ values (every integer) from 1 to 20. \n",
    "\n",
    "a) [10 pts] Fit a KNN model using `Diab.train` and calculate both training and testing errors. For the testing error, use `Diab.test`. Plot the two errors against the corresponding $k$ values. Make sure that you differentiate them using different colors/shapes and add proper legends. "
   ]
  },
  {
   "cell_type": "markdown",
   "id": "de06f07e",
   "metadata": {},
   "source": [
    "### Problem 1a:"
   ]
  },
  {
   "cell_type": "code",
   "execution_count": 11,
   "id": "d6b453ad",
   "metadata": {},
   "outputs": [
    {
     "data": {
      "image/png": "[encoded data removed]",
      "text/plain": [
       "<Figure size 432x288 with 1 Axes>"
      ]
     },
     "metadata": {
      "needs_background": "light"
     },
     "output_type": "display_data"
    },
    {
     "name": "stdout",
     "output_type": "stream",
     "text": [
      "Optimal K: 7\n",
      "Lowest Testing Error: 0.2344\n"
     ]
    }
   ],
   "source": [
    "train_score = []\n",
    "test_score = []\n",
    "num_iter = 20\n",
    "for k in range(1,num_iter+1):\n",
    "    knn = KNeighborsClassifier(n_neighbors=k)\n",
    "    knn.fit(train_X, train_y)\n",
    "    test_score.append(1 - knn.score(test_X, test_y))\n",
    "    train_score.append(1 - knn.score(train_X, train_y))\n",
    "    \n",
    "plt.plot(range(1,num_iter+1), train_score, label=\"Training Error\")\n",
    "plt.plot(range(1,num_iter+1), test_score, label=\"Testing Error\")\n",
    "plt.xticks(np.arange(1, num_iter+1, 1.0))\n",
    "plt.title(\"Training and Testing Accuracy for KNN\")\n",
    "plt.xlabel(\"Number of Neighbors\")\n",
    "plt.ylabel(\"Percent Accuracy\")\n",
    "plt.legend()\n",
    "plt.show()\n",
    "\n",
    "highest_training_score = np.array(test_score).argmin() + 1\n",
    "print(\"Optimal K:\", highest_training_score)\n",
    "print(\"Lowest Testing Error:\", round(train_score[highest_training_score],4))"
   ]
  },
  {
   "cell_type": "markdown",
   "id": "d101f381",
   "metadata": {},
   "source": [
    "b) [15 pts] Does the plot match (approximately) our intuition of the bias-variance trade-off in terms of having a U-shaped error? What is the optimal $k$ value based on this result? For the optimal `k`, what is the corresponding degrees-of-freedom and its error?\n",
    "\n",
    "**Answer**\n",
    "\n",
    "We see elements of the bias-variance tradeoff, for example when K=1, we can see a very low testing error but a high training error. This is because at K=1, we are able to perfectly reproduce our data, thus giving a low bias, but as we get more data it is unlikely to fall into this perfect reproduction, therefore a high variance. As we increase K we see that our tesing error is starting to decrease, therefore our model is properly generalizing, but as K get even larger, our testing error increases again. This is because a highly paramaterized model is going to have low variance but a high suceptibility to bias.\n",
    "\n",
    "The optimial value for K is 7, as that is when we get our lowest error of 0.2344, and the corresponding degrees of freedom would be 54. "
   ]
  },
  {
   "cell_type": "markdown",
   "id": "0b5fff41",
   "metadata": {},
   "source": [
    "c) [15 pts] Suppose we do not have access to `Diab.test` data. Thus, we need to further split the training data into train and validation data to tune `k`. For this question, use the `caret` package to complete the tuning. You are required to \n",
    "   * Train the model with cross-validation using the `train()` function.\n",
    "      * Specify the type of cross-validation using the `trainControl()` function. We need to use three-fold cross-validation.\n",
    "      * Specify a grid of tuning parameters. This can be done using `expand.grid(k = c(1:20))`.\n",
    "   * Report the best parameter with its error. Compare it with your `k` in b)."
   ]
  },
  {
   "cell_type": "code",
   "execution_count": 5,
   "id": "a0fd2b88",
   "metadata": {},
   "outputs": [
    {
     "name": "stdout",
     "output_type": "stream",
     "text": [
      "Optimal K: 9\n",
      "Lowest Error: 0.27864583333333337\n"
     ]
    }
   ],
   "source": [
    "param_grid = {\"n_neighbors\": list(range(1,21))}\n",
    "\n",
    "KNN_search_cv = GridSearchCV(KNeighborsClassifier(), \n",
    "                             param_grid=param_grid,\n",
    "                             scoring=\"accuracy\",\n",
    "                             cv=3,\n",
    "                             n_jobs=-1)\n",
    "\n",
    "KNN_search_cv.fit(train_X, train_y)\n",
    "\n",
    "print(\"Optimal K:\", KNN_search_cv.best_params_[\"n_neighbors\"])\n",
    "print(\"Lowest Error:\", 1 - KNN_search_cv.best_score_)"
   ]
  },
  {
   "cell_type": "markdown",
   "id": "b852be2c",
   "metadata": {},
   "source": [
    "When doing a 3-fold cross-validation on only our training data we get the best parameter for the number of neighbors to be 9, with the lowest error of 0.278. This is slightly higher than the K of 7 we got previously, and our error from CV is also slightly higher from 0.2344 on our testing data in the last problem. "
   ]
  },
  {
   "cell_type": "markdown",
   "id": "2d246f15",
   "metadata": {},
   "source": [
    "## Question 2\n",
    "a. [10 pts] Generate $p=5$ independent standard Normal covariates $X_1, X_2, X_3, X_4, X_5$ of $n = 1000$ independent observations. Then, generate $Y$ from the regression model\n",
    "  $$ Y = X_1 + 0.5 \\times X_2 - X_3 + \\epsilon,$$\n",
    "with i.i.d. standard normal error $\\epsilon$. Make sure to set a random seed 1 for reproducibility. \n",
    "\n",
    " - Use a KNN implementation from an existing package. Report the mean squared error (MSE) for your prediction with `k = 5`. Use the first 500 observations as the training data and the rest as testing data. Predict the $Y$ values using your KNN function with `k = 5`. Mean squared error is \n",
    "  $$\\frac{1}{N}\\sum_i (y_i - \\widehat y_i)^2$$ This question also helps you validate your own function in b). a) and b) are expected have similar (possibly not identical) results.\n",
    "  - Hints: this is a **regression** problem instead of a classification one.\n"
   ]
  },
  {
   "cell_type": "code",
   "execution_count": 6,
   "id": "4e74d330",
   "metadata": {},
   "outputs": [],
   "source": [
    "np.random.seed(1)\n",
    "X_data = np.random.standard_normal(size=(1000,5))\n",
    "linear_transformation = np.array([1, 0.5, -1, 0, 0]).reshape(5,1)\n",
    "Y_data = X_data.dot(linear_transformation) + np.random.standard_normal(size=(1000,1))\n",
    "\n",
    "train_X, train_y = X_data[:500], Y_data[:500]\n",
    "test_X, test_y = X_data[500:], Y_data[500:]"
   ]
  },
  {
   "cell_type": "code",
   "execution_count": 7,
   "id": "66bf01b8",
   "metadata": {},
   "outputs": [
    {
     "name": "stdout",
     "output_type": "stream",
     "text": [
      "Mean Squared Error: 1.3296005985016977\n"
     ]
    }
   ],
   "source": [
    "knnreg = KNeighborsRegressor(n_neighbors = 5, metric='euclidean')\n",
    "knnreg.fit(train_X, train_y)\n",
    "\n",
    "print(\"Mean Squared Error:\",mean_squared_error(knnreg.predict(test_X), test_y))\n"
   ]
  },
  {
   "cell_type": "markdown",
   "id": "1c3fa0fe",
   "metadata": {},
   "source": [
    "b. [30 pts] For this question, you __cannot__ use (load) any additional `R` package. Write your own function `myknn(xtrain, ytrain, xtest, k)` that fits a KNN model and predict multiple target points `xtest`. The function should return a variable `ytest`.\n",
    "    - Here, `xtrain` is the training dataset covariate value, `ytrain` is the training data outcome, and `k` is the number of nearest neighbors. `ytest` is the prediction on `xtest`. \n",
    "    - Use Euclidean distance to calculate the closeness between two points.\n",
    "    - Test your code by reporting the mean square error on the testing data. \n"
   ]
  },
  {
   "cell_type": "code",
   "execution_count": 8,
   "id": "7b17712d",
   "metadata": {},
   "outputs": [
    {
     "name": "stdout",
     "output_type": "stream",
     "text": [
      "Mean Squared Error: 1.3296005985016977\n"
     ]
    }
   ],
   "source": [
    "class KNNRegressor:\n",
    "    def __init__(self, n_neighbors):\n",
    "        self.n_neighbors = n_neighbors\n",
    "        \n",
    "    def fit(self,x,y):\n",
    "        \"\"\"\n",
    "        Store training data to compare to during predictions\n",
    "        \"\"\"\n",
    "        self.train_x = x\n",
    "        self.train_y = y\n",
    "    \n",
    "    def predict(self,x):\n",
    "        \"\"\"\n",
    "        Loop through all available test data and generate predictions\n",
    "        \"\"\"\n",
    "        predictions_list = []\n",
    "        for test in x:\n",
    "            predictions_list.append(self.predict_single_sample(test))\n",
    "        return np.array(predictions_list).reshape(-1, 1)\n",
    "    \n",
    "    def predict_single_sample(self, x):\n",
    "        \"\"\"\n",
    "        For a single sample calculate the euclidian distance and averaget the n closest points\n",
    "        \"\"\"\n",
    "        distance_list = []\n",
    "        for train in self.train_x:\n",
    "            distance_list.append(self.euclidian_distance(train, x))\n",
    "        distance_list = np.array(distance_list)\n",
    "        indicies = distance_list.argsort()[:self.n_neighbors]\n",
    "        prediction = self.train_y[indicies].mean()\n",
    "        return prediction\n",
    "    \n",
    "    def mse_score(self,x,y):\n",
    "        \"\"\"\n",
    "        Calculate the mean squared error of a set of samples\n",
    "        \"\"\"\n",
    "        predictions = self.predict(x)\n",
    "        return np.sum((predictions - y)**2) / len(predictions)\n",
    "        \n",
    "    def euclidian_distance(self,train, x):\n",
    "        return np.sum((train - x)**2)**0.5\n",
    "        \n",
    "    \n",
    "    \n",
    "    \n",
    "knn = KNNRegressor(n_neighbors=5)\n",
    "knn.fit(train_X, train_y)\n",
    "\n",
    "print(\"Mean Squared Error:\",knn.mse_score(test_X, test_y))\n"
   ]
  },
  {
   "cell_type": "markdown",
   "id": "0f16fefd",
   "metadata": {},
   "source": [
    "# Question 3\n",
    "\n",
    "Let's consider a high-dimensional setting. Keep the data-generating model the same as question 2. In addition to the outcomes and covariates from question 2, we will also generate 95 more noisy variables to make p = 100. In this question, you can use a KNN function from any existing package. \n",
    "\n",
    "We consider two different settings to generate that additional set of 95 covariates. Make sure to set random seeds for reproducibility. \n",
    "\n",
    "  * Generate another 95-dimensional covariates with all independent standard Gaussian entries.\n",
    "  * Generate another 95-dimensional covariates using the formula $X^T A$, where $X$ is the original 5-dimensional vector, and $A$ is a $5 \\times 95$ dimensional (fixed) matrix that remains the same for all observations. You should generate $A$ just once using i.i.d. uniform $[0, 1]$ entries and then apply $A$ to your current 5-dimensional data. \n",
    "\n",
    "Fit KNN in both settings (with the total of 100 covariates) and select the best $k$ value. Answer the following questions\n",
    "\n",
    "  a) [10 pts] For the first setting, what is the best $k$ and the best mean squared error for prediction?\n",
    "  \n",
    "  b) [10 pts] For the second setting, what is the best $k$ and the best mean squared error for prediction?\n",
    "  \n",
    "  c) [10 pts] In which setting $k$NN performs better? Why?"
   ]
  },
  {
   "cell_type": "code",
   "execution_count": 9,
   "id": "a04ad511",
   "metadata": {},
   "outputs": [
    {
     "name": "stdout",
     "output_type": "stream",
     "text": [
      "--- First Settings ---\n",
      "Optimal K: 13\n",
      "Lowest Error: 2.411872848822325\n",
      "--- Second Settings ---\n",
      "Optimal K: 7\n",
      "Lowest Error: 1.5471072743000391\n"
     ]
    }
   ],
   "source": [
    "np.random.seed(1)\n",
    "# a) First Setting Data Gen\n",
    "first_setting_gen_data = np.random.standard_normal(size=(1000,95))\n",
    "first_setting_gen_data = np.concatenate((X_data, first_setting_gen_data), axis=1)\n",
    "first_settings_train, first_settings_test = first_setting_gen_data[:500], first_setting_gen_data[500:]\n",
    "lowest_error = np.inf \n",
    "optimal_first_k = 0\n",
    "for i in range(1,100):\n",
    "    knnreg = KNeighborsRegressor(n_neighbors = i, metric='euclidean')\n",
    "    knnreg.fit(first_settings_train, train_y)\n",
    "    mse = mean_squared_error(knnreg.predict(first_settings_test), test_y)\n",
    "    if mse < lowest_error:\n",
    "        lowest_error = mse\n",
    "        optimal_first_k = i\n",
    "        \n",
    "print(\"--- First Settings ---\")\n",
    "print(\"Optimal K:\",optimal_first_k)\n",
    "print(\"Lowest Error:\", lowest_error)\n",
    "\n",
    "\n",
    "\n",
    "# b) Second Setting Data Gen\n",
    "A = np.random.uniform(size=(5,95))\n",
    "second_setting_gen_data = np.concatenate((X_data, X_data.dot(A)), axis=1)\n",
    "second_settings_train, second_settings_test = second_setting_gen_data[:500], second_setting_gen_data[500:]\n",
    "\n",
    "lowest_error = np.inf \n",
    "optimal_second_k = 0\n",
    "for i in range(1,100):\n",
    "    knnreg = KNeighborsRegressor(n_neighbors = i, metric='euclidean')\n",
    "    knnreg.fit(second_settings_train, train_y)\n",
    "    mse = mean_squared_error(knnreg.predict(second_settings_test), test_y)\n",
    "    if mse < lowest_error:\n",
    "        lowest_error = mse\n",
    "        optimal_second_k = i\n",
    "        \n",
    "print(\"--- Second Settings ---\")\n",
    "print(\"Optimal K:\",optimal_second_k)\n",
    "print(\"Lowest Error:\", lowest_error)\n"
   ]
  },
  {
   "cell_type": "markdown",
   "id": "fbc37b1b",
   "metadata": {},
   "source": [
    "### Answer\n",
    "I found that our KNN for the second setting yielded better performance with a lower error. The reason for this is because in the first setting we added purely random noise to our data, thus clouding the underlying relationships between predictors. On the other hand, in the second setting we generated random uniform data but applied a transformation to it from our original 5 predictors, which in turn has made the uniform data produced more in line with the original data. The original data was also used to generate our Y target, so it makes sense that the 100 predictors that flollow the patterns of our original dataset performs better. "
   ]
  }
 ],
 "metadata": {
  "kernelspec": {
   "display_name": "Python 3 (ipykernel)",
   "language": "python",
   "name": "python3"
  },
  "language_info": {
   "codemirror_mode": {
    "name": "ipython",
    "version": 3
   },
   "file_extension": ".py",
   "mimetype": "text/x-python",
   "name": "python",
   "nbconvert_exporter": "python",
   "pygments_lexer": "ipython3",
   "version": "3.9.7"
  }
 },
 "nbformat": 4,
 "nbformat_minor": 5
}
