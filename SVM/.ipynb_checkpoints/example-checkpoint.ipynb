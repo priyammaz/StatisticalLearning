{
 "cells": [
  {
   "cell_type": "markdown",
   "metadata": {
    "id": "ZdwYtO0dCO-y"
   },
   "source": [
    "Name: Yang Yue (yangyue3)"
   ]
  },
  {
   "cell_type": "markdown",
   "metadata": {
    "id": "SVaHaexdCRR5"
   },
   "source": [
    "**Answer to Question 1**"
   ]
  },
  {
   "cell_type": "code",
   "execution_count": 1,
   "metadata": {
    "colab": {
     "base_uri": "https://localhost:8080/"
    },
    "id": "zvgJDC21CoCL",
    "outputId": "401c7501-5219-42c1-fb22-bf3a47140bc8"
   },
   "outputs": [
    {
     "name": "stdout",
     "output_type": "stream",
     "text": [
      "Requirement already satisfied: quadprog in /usr/local/lib/python3.7/dist-packages (0.1.11)\n",
      "Requirement already satisfied: numpy in /usr/local/lib/python3.7/dist-packages (from quadprog) (1.21.5)\n"
     ]
    }
   ],
   "source": [
    "!pip install quadprog"
   ]
  },
  {
   "cell_type": "code",
   "execution_count": 2,
   "metadata": {
    "id": "Z_57YhetCS97"
   },
   "outputs": [],
   "source": [
    "# List of packages used\n",
    "import quadprog \n",
    "\n",
    "import matplotlib.pyplot as plt\n",
    "import numpy as np\n",
    "import pandas as pd\n",
    "import seaborn as sns"
   ]
  },
  {
   "cell_type": "code",
   "execution_count": 3,
   "metadata": {
    "id": "fvFgBU38CefE"
   },
   "outputs": [],
   "source": [
    "data = pd.read_csv('SVM-Q1.csv')"
   ]
  },
  {
   "cell_type": "markdown",
   "metadata": {
    "id": "YQSH-siLFTgi"
   },
   "source": [
    "1a: Solve the primal form problem."
   ]
  },
  {
   "cell_type": "markdown",
   "metadata": {
    "id": "X9k1ptpnFZXw"
   },
   "source": [
    "Let \n",
    "\n",
    "\\begin{align}\n",
    "D = \n",
    "\\begin{bmatrix}\n",
    "0 & 0 & 0 \\\\\n",
    "0 & 1 & 0 \\\\\n",
    "0 & 0 & 1\n",
    "\\end{bmatrix}\n",
    "\\end{align}\n",
    "\n",
    "and\n",
    "\n",
    "\\begin{align}\n",
    "d = \n",
    "\\begin{bmatrix}\n",
    "0 \\\\\n",
    "0\n",
    "\\end{bmatrix}\n",
    "\\end{align}\n",
    "\n",
    "in the objective function. As for the constraint, let\n",
    "\n",
    "\\begin{align}\n",
    "A = \n",
    "\\begin{bmatrix}\n",
    "y^T \\\\\n",
    "(y\\circ x_1)^T \\\\\n",
    "(y\\circ x_2)^T\n",
    "\\end{bmatrix}\n",
    "\\end{align}\n",
    "\n",
    "and \n",
    "\n",
    "\\begin{align}\n",
    "b_0 = \\vec{1}\n",
    "\\end{align} \n",
    "\n",
    "Then we obtain the primal form of the optimization problem."
   ]
  },
  {
   "cell_type": "code",
   "execution_count": 4,
   "metadata": {
    "colab": {
     "base_uri": "https://localhost:8080/"
    },
    "id": "R4YlkNgFC3Xg",
    "outputId": "88a37efe-b4c3-41bb-d238-a59509e0c459"
   },
   "outputs": [
    {
     "name": "stdout",
     "output_type": "stream",
     "text": [
      "The optimal parameters are \n",
      "beta0    3.419238\n",
      "beta1   -1.045731\n",
      "beta2   -0.999079\n",
      "dtype: float64\n"
     ]
    }
   ],
   "source": [
    "# Implementaion of the settings\n",
    "data_alt = data.copy()\n",
    "data_alt['y_x1'] = data_alt.apply(lambda row:row['x1']*row['y'],axis=1)\n",
    "data_alt['y_x2'] = data_alt.apply(lambda row:row['x2']*row['y'],axis=1)\n",
    "data_alt = data_alt[['y','y_x1','y_x2']]\n",
    "\n",
    "m = data.shape[0]\n",
    "n = 3\n",
    "D = np.eye(n)\n",
    "D[0,0] = 0\n",
    "d = np.zeros(n)\n",
    "A = np.matrix(data_alt.T)\n",
    "b0 = np.ones(m)\n",
    "eps = 1e-10*np.eye(n)\n",
    "\n",
    "b = quadprog.solve_qp(D+eps,d,A,b0)[0]\n",
    "b_1a = {'beta0':b[0],'beta1':b[1],'beta2':b[2]}\n",
    "df_1a = pd.Series(b_1a)\n",
    "print('The optimal parameters are \\n{}'.format(df_1a))"
   ]
  },
  {
   "cell_type": "code",
   "execution_count": 5,
   "metadata": {
    "colab": {
     "base_uri": "https://localhost:8080/",
     "height": 297
    },
    "id": "t82QrreK4hI5",
    "outputId": "6ff163f7-250c-475e-b353-ca5c2697e157"
   },
   "outputs": [
    {
     "data": {
      "image/png": "[encoded data removed]",
      "text/plain": [
       "<Figure size 432x288 with 1 Axes>"
      ]
     },
     "metadata": {
      "needs_background": "light"
     },
     "output_type": "display_data"
    }
   ],
   "source": [
    "def decision_function(b,x1,x2):\n",
    "  return b[0]+b[1]*x1+b[2]*x2\n",
    "\n",
    "decision_values = [decision_function(b,row['x1'],row['x2']) for row in [data.iloc[i] for i in range(m)]]\n",
    "support_vectors_idx = np.where(np.abs(decision_values)<=1+1e-1)\n",
    "support_vectors = data[['x1','x2']].iloc[support_vectors_idx]\n",
    "  \n",
    "sns.scatterplot(x='x1',y='x2',data=data[data['y']==1],label='Positive')\n",
    "sns.scatterplot(x='x1',y='x2',data=data[data['y']==-1],label='Negative')\n",
    "\n",
    "x1_min,x1_max = data['x1'].min(),data['x1'].max()\n",
    "x2_min,x2_max = data['x2'].min(),data['x2'].max()\n",
    "x1_grid,x2_grid = np.meshgrid(np.linspace(x1_min,x1_max,50),np.linspace(x2_min,x2_max,50))\n",
    "val = np.array([decision_function(b,x[0],x[1]) for x in np.c_[x1_grid.ravel(),x2_grid.ravel()]]).reshape(x1_grid.shape)\n",
    "plt.contour(x1_grid,x2_grid,val,levels=[-1,0,1],linestyles=['--','-','--'])\n",
    "plt.scatter(support_vectors.iloc[:,0],support_vectors.iloc[:,1],s=50,linewidth=1,edgecolors='k')\n",
    "plt.xlim(x1_min-0.5,x1_max+0.5)\n",
    "plt.ylim(x2_min-0.5,x2_max+0.5)\n",
    "plt.title('Support Vectors Marked in Green with Black Circle')\n",
    "\n",
    "plt.legend()\n",
    "plt.tight_layout()\n",
    "plt.show()"
   ]
  },
  {
   "cell_type": "markdown",
   "metadata": {
    "id": "VEim0FVfQ6Lh"
   },
   "source": [
    "1b: Solve the dual form problem."
   ]
  },
  {
   "cell_type": "markdown",
   "metadata": {
    "id": "wgEQx315YWfj"
   },
   "source": [
    "Let\n",
    "\n",
    "\\begin{align}\n",
    "D_{m\\times m} =\n",
    "\\begin{bmatrix}\n",
    "(y\\circ x_1)(y\\circ x_1)^T & (y\\circ x_2)(y\\circ x_2)^T\n",
    "\\end{bmatrix}\n",
    "\\end{align}\n",
    "\n",
    "and \n",
    "\n",
    "\\begin{align}\n",
    "d = \\vec{1}\n",
    "\\end{align}\n",
    "\n",
    "in the objective function. Let \n",
    "\n",
    "\\begin{align}\n",
    "A_{m\\times (m+1)} = \n",
    "\\begin{bmatrix}\n",
    "y & I(m)\n",
    "\\end{bmatrix}\n",
    "\\end{align}\n",
    "\n",
    "and \n",
    "\n",
    "\\begin{align}\n",
    "b_{0 \\ (m+1)\\times 1} = \\vec{0}\n",
    "\\end{align}\n",
    "\n",
    "with the first constraint as equality constraints."
   ]
  },
  {
   "cell_type": "code",
   "execution_count": 6,
   "metadata": {
    "colab": {
     "base_uri": "https://localhost:8080/"
    },
    "id": "1Xk6YQfzXv7a",
    "outputId": "433fe44d-d326-4622-bfa0-746b8e7f1b4b"
   },
   "outputs": [
    {
     "name": "stdout",
     "output_type": "stream",
     "text": [
      "The optimal parameters are \n",
      "beta0    3.347791\n",
      "beta1   -1.045752\n",
      "beta2   -0.999171\n",
      "dtype: float64\n"
     ]
    }
   ],
   "source": [
    "# Implementation\n",
    "data_alt = data.copy()\n",
    "data_alt['y_x1'] = data_alt.apply(lambda row:row['x1']*row['y'],axis=1)\n",
    "data_alt['y_x2'] = data_alt.apply(lambda row:row['x2']*row['y'],axis=1)\n",
    "data_alt = data_alt[['y','y_x1','y_x2']]\n",
    "\n",
    "m = data.shape[0]\n",
    "\n",
    "D = np.matmul(np.matrix(data_alt[['y_x1','y_x2']]),np.matrix(data_alt[['y_x1','y_x2']]).T)\n",
    "d = np.ones(m)\n",
    "A = np.hstack([np.matrix(data_alt['y']).reshape(-1,1),np.diag(np.ones(m))])\n",
    "b0 = np.zeros(m+1)\n",
    "eps = 1e-10*np.eye(m)\n",
    "\n",
    "a = quadprog.solve_qp(D+eps,d,A,b0,meq=1)[0]\n",
    "\n",
    "# Obtain the betas\n",
    "b = np.multiply(np.multiply(a.reshape(m,1),np.matrix(data['y']).reshape(-1,1)),np.matrix(data[['x1','x2']])).sum(axis=0)\n",
    "\n",
    "# Obtain the intercept\n",
    "data_pos = data.iloc[data.query('y==1').index.tolist()][['x1','x2']]\n",
    "data_neg = data.iloc[data.query('y==-1').index.tolist()][['x1','x2']]\n",
    "intercept = -0.5*(np.matmul(b,np.matrix(data_neg).reshape(2,data_neg.shape[0])).max()+\n",
    "                  np.matmul(b,np.matrix(data_pos).reshape(2,data_pos.shape[0])).min())\n",
    "\n",
    "# Parameter values\n",
    "b_1b = {'beta0':intercept,'beta1':b[0,0],'beta2':b[0,1]}\n",
    "df_1b = pd.Series(b_1b)\n",
    "print('The optimal parameters are \\n{}'.format(df_1b))"
   ]
  },
  {
   "cell_type": "code",
   "execution_count": 7,
   "metadata": {
    "colab": {
     "base_uri": "https://localhost:8080/",
     "height": 297
    },
    "id": "CaNa2Um4aOYB",
    "outputId": "eace7a3d-e435-4549-9017-77f26af5be6f"
   },
   "outputs": [
    {
     "data": {
      "image/png": "[encoded data removed]",
      "text/plain": [
       "<Figure size 432x288 with 1 Axes>"
      ]
     },
     "metadata": {
      "needs_background": "light"
     },
     "output_type": "display_data"
    }
   ],
   "source": [
    "def decision_function(intercept,b,x1,x2):\n",
    "  return intercept+b[0,0]*x1+b[0,1]*x2\n",
    "\n",
    "decision_values = [decision_function(intercept,b,row['x1'],row['x2']) for row in [data.iloc[i] for i in range(m)]]\n",
    "support_vectors_idx = np.where(np.abs(decision_values)<=1+1e-1)\n",
    "support_vectors = data[['x1','x2']].iloc[support_vectors_idx]\n",
    "  \n",
    "sns.scatterplot(x='x1',y='x2',data=data[data['y']==1],label='Positive')\n",
    "sns.scatterplot(x='x1',y='x2',data=data[data['y']==-1],label='Negative')\n",
    "\n",
    "\n",
    "x1_min,x1_max = data['x1'].min(),data['x1'].max()\n",
    "x2_min,x2_max = data['x2'].min(),data['x2'].max()\n",
    "x1_grid,x2_grid = np.meshgrid(np.linspace(x1_min,x1_max,50),np.linspace(x2_min,x2_max,50))\n",
    "val = np.array([decision_function(intercept,b,x[0],x[1]) for x in np.c_[x1_grid.ravel(),x2_grid.ravel()]]).reshape(x1_grid.shape)\n",
    "plt.contour(x1_grid,x2_grid,val,levels=[-1,0,1],linestyles=['--','-','--'])\n",
    "plt.scatter(support_vectors.iloc[:,0],support_vectors.iloc[:,1],s=50,linewidth=1,edgecolors='k')\n",
    "plt.xlim(x1_min-0.5,x1_max+0.5)\n",
    "plt.ylim(x2_min-0.5,x2_max+0.5)\n",
    "plt.title('Support Vectors Marked in Green with Black Circle')\n",
    "\n",
    "plt.legend()\n",
    "plt.tight_layout()\n",
    "plt.show()"
   ]
  },
  {
   "cell_type": "markdown",
   "metadata": {
    "id": "XQ952Vi1bIFP"
   },
   "source": [
    "Summary"
   ]
  },
  {
   "cell_type": "code",
   "execution_count": 8,
   "metadata": {
    "colab": {
     "base_uri": "https://localhost:8080/",
     "height": 143
    },
    "id": "SdFrKu0JOzLR",
    "outputId": "33c04dd7-360a-4e6f-bfaa-73cd1f49d858"
   },
   "outputs": [
    {
     "data": {
      "text/html": [
       "\n",
       "  <div id=\"df-e12e1c76-2c6b-46d6-9b6a-29444c4e8ab0\">\n",
       "    <div class=\"colab-df-container\">\n",
       "      <div>\n",
       "<style scoped>\n",
       "    .dataframe tbody tr th:only-of-type {\n",
       "        vertical-align: middle;\n",
       "    }\n",
       "\n",
       "    .dataframe tbody tr th {\n",
       "        vertical-align: top;\n",
       "    }\n",
       "\n",
       "    .dataframe thead th {\n",
       "        text-align: right;\n",
       "    }\n",
       "</style>\n",
       "<table border=\"1\" class=\"dataframe\">\n",
       "  <thead>\n",
       "    <tr style=\"text-align: right;\">\n",
       "      <th></th>\n",
       "      <th>1a</th>\n",
       "      <th>1b</th>\n",
       "    </tr>\n",
       "  </thead>\n",
       "  <tbody>\n",
       "    <tr>\n",
       "      <th>beta0</th>\n",
       "      <td>3.419238</td>\n",
       "      <td>3.347791</td>\n",
       "    </tr>\n",
       "    <tr>\n",
       "      <th>beta1</th>\n",
       "      <td>-1.045731</td>\n",
       "      <td>-1.045752</td>\n",
       "    </tr>\n",
       "    <tr>\n",
       "      <th>beta2</th>\n",
       "      <td>-0.999079</td>\n",
       "      <td>-0.999171</td>\n",
       "    </tr>\n",
       "  </tbody>\n",
       "</table>\n",
       "</div>\n",
       "      <button class=\"colab-df-convert\" onclick=\"convertToInteractive('df-e12e1c76-2c6b-46d6-9b6a-29444c4e8ab0')\"\n",
       "              title=\"Convert this dataframe to an interactive table.\"\n",
       "              style=\"display:none;\">\n",
       "        \n",
       "  <svg xmlns=\"http://www.w3.org/2000/svg\" height=\"24px\"viewBox=\"0 0 24 24\"\n",
       "       width=\"24px\">\n",
       "    <path d=\"M0 0h24v24H0V0z\" fill=\"none\"/>\n",
       "    <path d=\"M18.56 5.44l.94 2.06.94-2.06 2.06-.94-2.06-.94-.94-2.06-.94 2.06-2.06.94zm-11 1L8.5 8.5l.94-2.06 2.06-.94-2.06-.94L8.5 2.5l-.94 2.06-2.06.94zm10 10l.94 2.06.94-2.06 2.06-.94-2.06-.94-.94-2.06-.94 2.06-2.06.94z\"/><path d=\"M17.41 7.96l-1.37-1.37c-.4-.4-.92-.59-1.43-.59-.52 0-1.04.2-1.43.59L10.3 9.45l-7.72 7.72c-.78.78-.78 2.05 0 2.83L4 21.41c.39.39.9.59 1.41.59.51 0 1.02-.2 1.41-.59l7.78-7.78 2.81-2.81c.8-.78.8-2.07 0-2.86zM5.41 20L4 18.59l7.72-7.72 1.47 1.35L5.41 20z\"/>\n",
       "  </svg>\n",
       "      </button>\n",
       "      \n",
       "  <style>\n",
       "    .colab-df-container {\n",
       "      display:flex;\n",
       "      flex-wrap:wrap;\n",
       "      gap: 12px;\n",
       "    }\n",
       "\n",
       "    .colab-df-convert {\n",
       "      background-color: #E8F0FE;\n",
       "      border: none;\n",
       "      border-radius: 50%;\n",
       "      cursor: pointer;\n",
       "      display: none;\n",
       "      fill: #1967D2;\n",
       "      height: 32px;\n",
       "      padding: 0 0 0 0;\n",
       "      width: 32px;\n",
       "    }\n",
       "\n",
       "    .colab-df-convert:hover {\n",
       "      background-color: #E2EBFA;\n",
       "      box-shadow: 0px 1px 2px rgba(60, 64, 67, 0.3), 0px 1px 3px 1px rgba(60, 64, 67, 0.15);\n",
       "      fill: #174EA6;\n",
       "    }\n",
       "\n",
       "    [theme=dark] .colab-df-convert {\n",
       "      background-color: #3B4455;\n",
       "      fill: #D2E3FC;\n",
       "    }\n",
       "\n",
       "    [theme=dark] .colab-df-convert:hover {\n",
       "      background-color: #434B5C;\n",
       "      box-shadow: 0px 1px 3px 1px rgba(0, 0, 0, 0.15);\n",
       "      filter: drop-shadow(0px 1px 2px rgba(0, 0, 0, 0.3));\n",
       "      fill: #FFFFFF;\n",
       "    }\n",
       "  </style>\n",
       "\n",
       "      <script>\n",
       "        const buttonEl =\n",
       "          document.querySelector('#df-e12e1c76-2c6b-46d6-9b6a-29444c4e8ab0 button.colab-df-convert');\n",
       "        buttonEl.style.display =\n",
       "          google.colab.kernel.accessAllowed ? 'block' : 'none';\n",
       "\n",
       "        async function convertToInteractive(key) {\n",
       "          const element = document.querySelector('#df-e12e1c76-2c6b-46d6-9b6a-29444c4e8ab0');\n",
       "          const dataTable =\n",
       "            await google.colab.kernel.invokeFunction('convertToInteractive',\n",
       "                                                     [key], {});\n",
       "          if (!dataTable) return;\n",
       "\n",
       "          const docLinkHtml = 'Like what you see? Visit the ' +\n",
       "            '<a target=\"_blank\" href=https://colab.research.google.com/notebooks/data_table.ipynb>data table notebook</a>'\n",
       "            + ' to learn more about interactive tables.';\n",
       "          element.innerHTML = '';\n",
       "          dataTable['output_type'] = 'display_data';\n",
       "          await google.colab.output.renderOutput(dataTable, element);\n",
       "          const docLink = document.createElement('div');\n",
       "          docLink.innerHTML = docLinkHtml;\n",
       "          element.appendChild(docLink);\n",
       "        }\n",
       "      </script>\n",
       "    </div>\n",
       "  </div>\n",
       "  "
      ],
      "text/plain": [
       "             1a        1b\n",
       "beta0  3.419238  3.347791\n",
       "beta1 -1.045731 -1.045752\n",
       "beta2 -0.999079 -0.999171"
      ]
     },
     "execution_count": 8,
     "metadata": {},
     "output_type": "execute_result"
    }
   ],
   "source": [
    "# Summary table\n",
    "df_summary = pd.concat([df_1a,df_1b],axis=1)\n",
    "df_summary = df_summary.rename(columns={0:'1a',1:'1b'})\n",
    "df_summary"
   ]
  },
  {
   "cell_type": "code",
   "execution_count": 9,
   "metadata": {
    "colab": {
     "base_uri": "https://localhost:8080/"
    },
    "id": "zX8HsG3CbXF8",
    "outputId": "6da54b3c-f889-48a0-ff89-b276b98a0e70"
   },
   "outputs": [
    {
     "name": "stdout",
     "output_type": "stream",
     "text": [
      "The l1 norm is 0.07155962154399731.\n"
     ]
    }
   ],
   "source": [
    "# Difference in l1 norm\n",
    "print('The l1 norm is {}.'.format(np.abs(df_summary['1a']-df_summary['1b']).sum()))"
   ]
  },
  {
   "cell_type": "markdown",
   "metadata": {
    "id": "_t7Aq4NIH93h"
   },
   "source": [
    "The difference mostly comes from the intercept term."
   ]
  },
  {
   "cell_type": "markdown",
   "metadata": {
    "id": "P7nCipZFcqXc"
   },
   "source": [
    "**Answer to Question 2**"
   ]
  },
  {
   "cell_type": "code",
   "execution_count": 10,
   "metadata": {
    "id": "0KyRqi63ch-P"
   },
   "outputs": [],
   "source": [
    "# List of packages used\n",
    "import quadprog\n",
    "\n",
    "import matplotlib.pyplot as plt\n",
    "import numpy as np\n",
    "import pandas as pd\n",
    "import seaborn as sns"
   ]
  },
  {
   "cell_type": "markdown",
   "metadata": {
    "id": "rZ1inbu76uD2"
   },
   "source": [
    "We can mostly keep the settings from the previous questions with \n",
    "\n",
    "\\begin{align}\n",
    "D_{m\\times m} =\n",
    "\\begin{bmatrix}\n",
    "(y\\circ x_1)(y\\circ x_1)^T & (y\\circ x_2)(y\\circ x_2)^T\n",
    "\\end{bmatrix}\n",
    "\\end{align}\n",
    "\n",
    "and \n",
    "\n",
    "\\begin{align}\n",
    "d = \\vec{1}\n",
    "\\end{align}\n",
    "\n",
    "in the objective function. We need to accomodate for the upper bounds of $C=1$ in the $A$ matrix. Note that\n",
    "\n",
    "\\begin{align}\n",
    "\\alpha_i \\leq C ⇔ -\\alpha_i \\geq -C\n",
    "\\end{align}\n",
    "\n",
    "Let \n",
    "\n",
    "\\begin{align}\n",
    "A_{m\\times (2m+1)} = \n",
    "\\begin{bmatrix}\n",
    "y & I(m) & -I(m)\n",
    "\\end{bmatrix}\n",
    "\\end{align}\n",
    "\n",
    "and \n",
    "\n",
    "\\begin{align}\n",
    "b_{0 \\ (2m+1)\\times 1} = \n",
    "\\begin{bmatrix}\n",
    "\\vec{0} \\\\\n",
    "\\vec{-1}\n",
    "\\end{bmatrix}\n",
    "\\end{align}\n",
    "\n",
    "with the first constraint as equality constraints."
   ]
  },
  {
   "cell_type": "code",
   "execution_count": 11,
   "metadata": {
    "colab": {
     "base_uri": "https://localhost:8080/"
    },
    "id": "QZECnNsG59Nw",
    "outputId": "498c64cb-f106-449e-d357-ccf3d1e9b63a"
   },
   "outputs": [
    {
     "name": "stdout",
     "output_type": "stream",
     "text": [
      "The optimal parameters are \n",
      "beta0   -1.671308\n",
      "beta1    1.152020\n",
      "beta2    1.111585\n",
      "dtype: float64\n"
     ]
    }
   ],
   "source": [
    "# Implementation\n",
    "data = pd.read_csv('SVM-Q2.csv')\n",
    "data_alt = data.copy()\n",
    "data_alt['y_x1'] = data_alt.apply(lambda row:row['x1']*row['y'],axis=1)\n",
    "data_alt['y_x2'] = data_alt.apply(lambda row:row['x2']*row['y'],axis=1)\n",
    "data_alt = data_alt[['y','y_x1','y_x2']]\n",
    "\n",
    "m = data.shape[0]\n",
    "\n",
    "D = np.matmul(np.matrix(data_alt[['y_x1','y_x2']]),np.matrix(data_alt[['y_x1','y_x2']]).T)\n",
    "d = np.ones(m)\n",
    "A = np.hstack([np.matrix(data_alt['y']).reshape(-1,1),np.diag(np.ones(m)),-np.diag(np.ones(m))])\n",
    "b0 = np.concatenate([np.zeros(m+1),-np.ones(m)])\n",
    "eps = 1e-10*np.eye(m)\n",
    "\n",
    "a = quadprog.solve_qp(D+eps,d,A,b0,meq=1)[0]\n",
    "a = np.array([1 if val>1 else 0 if val <0 else val for val in a]) # add thresholding\n",
    "\n",
    "# Obtain the betas\n",
    "b = np.multiply(np.multiply(a.reshape(m,1),np.matrix(data['y']).reshape(-1,1)),np.matrix(data[['x1','x2']])).sum(axis=0)\n",
    "\n",
    "# Locate the support vectors and obtain the intercept\n",
    "idx = np.where(a>1e-4)\n",
    "data_sv = data.iloc[idx]\n",
    "data_sv.reset_index(inplace=True)\n",
    "intercept = np.mean(np.array(data_sv['y'])-np.matmul(b,np.matrix(data_sv[['x1','x2']]).T))\n",
    "\n",
    "# Parameter values\n",
    "b_2 = {'beta0':intercept,'beta1':b[0,0],'beta2':b[0,1]}\n",
    "df_2 = pd.Series(b_2)\n",
    "print('The optimal parameters are \\n{}'.format(df_2))"
   ]
  },
  {
   "cell_type": "code",
   "execution_count": 12,
   "metadata": {
    "colab": {
     "base_uri": "https://localhost:8080/",
     "height": 297
    },
    "id": "0RB4HBg583MH",
    "outputId": "80aa17dd-d957-4589-9860-fc4b105aea07"
   },
   "outputs": [
    {
     "data": {
      "image/png": "[encoded data removed]",
      "text/plain": [
       "<Figure size 432x288 with 1 Axes>"
      ]
     },
     "metadata": {
      "needs_background": "light"
     },
     "output_type": "display_data"
    }
   ],
   "source": [
    "def decision_function(intercept,b,x1,x2):\n",
    "  return intercept+b[0,0]*x1+b[0,1]*x2\n",
    "  \n",
    "support_vectors = data[['x1','x2']].iloc[idx]\n",
    "\n",
    "sns.scatterplot(x='x1',y='x2',data=data[data['y']==1],label='Positive')\n",
    "sns.scatterplot(x='x1',y='x2',data=data[data['y']==-1],label='Negative')\n",
    "\n",
    "x1_min,x1_max = data['x1'].min(),data['x1'].max()\n",
    "x2_min,x2_max = data['x2'].min(),data['x2'].max()\n",
    "x1_grid,x2_grid = np.meshgrid(np.linspace(x1_min,x1_max,50),np.linspace(x2_min,x2_max,50))\n",
    "val = np.array([decision_function(intercept,b,x[0],x[1]) for x in np.c_[x1_grid.ravel(),x2_grid.ravel()]]).reshape(x1_grid.shape)\n",
    "plt.contour(x1_grid,x2_grid,val,levels=[-1,0,1],linestyles=['--','-','--'])\n",
    "plt.scatter(support_vectors.iloc[:,0],support_vectors.iloc[:,1],s=50,linewidth=1,edgecolors='k')\n",
    "plt.xlim(x1_min-0.5,x1_max+0.5)\n",
    "plt.ylim(x2_min-0.5,x2_max+0.5)\n",
    "plt.title('Support Vectors Marked in Green with Black Circle')\n",
    "\n",
    "plt.legend()\n",
    "plt.tight_layout()\n",
    "plt.show()"
   ]
  },
  {
   "cell_type": "markdown",
   "metadata": {
    "id": "sBkddDlx95Iq"
   },
   "source": [
    "**Answer to Question 3**"
   ]
  },
  {
   "cell_type": "code",
   "execution_count": 13,
   "metadata": {
    "id": "6t1Qfl0NMnd-"
   },
   "outputs": [],
   "source": [
    "# List of packages used\n",
    "import numpy as np\n",
    "import pandas as pd\n",
    "import seaborn as sns\n",
    "import scipy.optimize as optimize\n",
    "\n",
    "from sklearn.metrics import accuracy_score"
   ]
  },
  {
   "cell_type": "markdown",
   "metadata": {
    "id": "HiO1ITd1WPPf"
   },
   "source": [
    "3a: Derive gradient of the loss function."
   ]
  },
  {
   "cell_type": "markdown",
   "metadata": {
    "id": "_XziG8szWXA3"
   },
   "source": [
    "We extent $X$ by adding a column of ones. And we write\n",
    "\n",
    "\\begin{align}\n",
    "\\beta_0+\\beta^Tx_i = b^T x_{i}\n",
    "\\end{align}\n",
    "\n",
    "where $b=(\\beta_0,\\beta)^T$. The objective function is\n",
    "\n",
    "\\begin{align}\n",
    "\\min_b F(b) = \\sum_{i=1}^n \\log(1+\\exp(-yb^T x_i))+\\lambda||b||^2\n",
    "\\end{align}\n",
    "\n",
    "The gradient is then\n",
    "\n",
    "\\begin{align}\n",
    "\\frac{\\partial}{\\partial b}F(b) = -\\sum_{i=1}^n(1-\\sigma(y_ib^Tx_i))y_ix_i+2\\lambda b\n",
    "\\end{align}"
   ]
  },
  {
   "cell_type": "markdown",
   "metadata": {
    "id": "ZP3fasjaZ3CY"
   },
   "source": [
    "3b: Code the loss function and gradient function."
   ]
  },
  {
   "cell_type": "code",
   "execution_count": 14,
   "metadata": {
    "id": "QY-1TmCs9lqV"
   },
   "outputs": [],
   "source": [
    "def sigmoid(z):\n",
    "  return 1/(1+np.exp(-z))\n",
    "\n",
    "def loss_function(b,X,y,lambda_):\n",
    "  m = X.shape[0]\n",
    "  loss = 0\n",
    "  for i in range(m):\n",
    "    loss += np.log(1+np.exp(-y[i]*(np.matmul(b,X[i].T))))\n",
    "  loss = loss+lambda_*np.linalg.norm(b)**2\n",
    "  return loss\n",
    "\n",
    "def gradient(b,X,y,lambda_):\n",
    "  m = X.shape[0]\n",
    "  grad = np.zeros(3)\n",
    "  for i in range(m):\n",
    "    z = np.matmul(y[i]*b,X[i].T)\n",
    "    grad += -(1-sigmoid(z))*y[i]*X[i]\n",
    "  grad = grad+2*lambda_*b\n",
    "  return grad"
   ]
  },
  {
   "cell_type": "markdown",
   "metadata": {
    "id": "vn-OO0gwaOSr"
   },
   "source": [
    "3c: Solve the problem."
   ]
  },
  {
   "cell_type": "code",
   "execution_count": 15,
   "metadata": {
    "colab": {
     "base_uri": "https://localhost:8080/"
    },
    "id": "mb3NBACzcvwU",
    "outputId": "5a501c5c-e552-499c-c122-b3f67c23f043"
   },
   "outputs": [
    {
     "name": "stdout",
     "output_type": "stream",
     "text": [
      "The optimal parameters are \n",
      "beta0   -2.017562\n",
      "beta1    1.447390\n",
      "beta2    1.404528\n",
      "dtype: float64\n",
      "The loss is 134.44549100570833.\n"
     ]
    }
   ],
   "source": [
    "data_ext = data.copy()\n",
    "data_ext['x0'] = np.ones(m)\n",
    "X = np.array(data_ext[['x0','x1','x2']])\n",
    "y = np.array(data_ext['y'])\n",
    "lambda_ = 1\n",
    "initial_guess = np.zeros(3)\n",
    "\n",
    "# Run the optimization algorithm\n",
    "sol = optimize.minimize(loss_function,initial_guess,args=(X,y,lambda_),method='BFGS',jac=gradient)\n",
    "\n",
    "# Parameter values\n",
    "b = sol.x\n",
    "b_3 = {'beta0':b[0],'beta1':b[1],'beta2':b[2]}\n",
    "df_3 = pd.Series(b_3)\n",
    "print('The optimal parameters are \\n{}'.format(df_3))\n",
    "\n",
    "# Loss\n",
    "loss = sol.fun\n",
    "print('The loss is {}.'.format(loss))"
   ]
  },
  {
   "cell_type": "code",
   "execution_count": 16,
   "metadata": {
    "colab": {
     "base_uri": "https://localhost:8080/"
    },
    "id": "I9Ro-ZDfnWzM",
    "outputId": "044a06ba-26e7-403a-fed4-38c205b9febf"
   },
   "outputs": [
    {
     "name": "stdout",
     "output_type": "stream",
     "text": [
      "The misclassification rate is 0.157.\n"
     ]
    }
   ],
   "source": [
    "# Prediction function\n",
    "def predict(x1,x2,b):\n",
    "  val = b[0]+b[1]*x1+b[1]*x2\n",
    "  return 1 if val >= 0 else -1\n",
    "\n",
    "data_ext['predicted'] = data_ext.apply(lambda row:predict(row['x1'],row['x2'],b),axis=1)\n",
    "misclass_rate = 1-accuracy_score(data_ext['y'],data_ext['predicted'])\n",
    "print('The misclassification rate is {}.'.format(round(misclass_rate,3)))"
   ]
  },
  {
   "cell_type": "code",
   "execution_count": 17,
   "metadata": {
    "colab": {
     "base_uri": "https://localhost:8080/",
     "height": 297
    },
    "id": "C_ZZ3v_tpsOR",
    "outputId": "352e8cf5-168d-4d41-88aa-c89db4e9f7f1"
   },
   "outputs": [
    {
     "data": {
      "image/png": "[encoded data removed]",
      "text/plain": [
       "<Figure size 432x288 with 1 Axes>"
      ]
     },
     "metadata": {
      "needs_background": "light"
     },
     "output_type": "display_data"
    }
   ],
   "source": [
    "def decision_function(b,x1,x2):\n",
    "  return b[0]+b[1]*x1+b[2]*x2\n",
    "\n",
    "sns.scatterplot(x='x1',y='x2',data=data[data['y']==1],label='Positive')\n",
    "sns.scatterplot(x='x1',y='x2',data=data[data['y']==-1],label='Negative')\n",
    "\n",
    "x1_min,x1_max = data_ext['x1'].min(),data_ext['x1'].max()\n",
    "x2_min,x2_max = data_ext['x2'].min(),data_ext['x2'].max()\n",
    "x1_grid,x2_grid = np.meshgrid(np.linspace(x1_min,x1_max,50),np.linspace(x2_min,x2_max,50))\n",
    "val = np.array([decision_function(b,x[0],x[1]) for x in np.c_[x1_grid.ravel(),x2_grid.ravel()]]).reshape(x1_grid.shape)\n",
    "plt.contour(x1_grid,x2_grid,val,levels=[-1,0,1],linestyles=['--','-','--'])\n",
    "plt.xlim(x1_min-0.5,x1_max+0.5)\n",
    "plt.ylim(x2_min-0.5,x2_max+0.5)\n",
    "plt.title('Penalized Linear SVM')\n",
    "\n",
    "plt.legend()\n",
    "plt.tight_layout()\n",
    "plt.show()"
   ]
  }
 ],
 "metadata": {
  "colab": {
   "collapsed_sections": [],
   "name": "HW08_yangyue3.ipynb",
   "provenance": []
  },
  "kernelspec": {
   "display_name": "Python 3 (ipykernel)",
   "language": "python",
   "name": "python3"
  },
  "language_info": {
   "codemirror_mode": {
    "name": "ipython",
    "version": 3
   },
   "file_extension": ".py",
   "mimetype": "text/x-python",
   "name": "python",
   "nbconvert_exporter": "python",
   "pygments_lexer": "ipython3",
   "version": "3.9.7"
  }
 },
 "nbformat": 4,
 "nbformat_minor": 1
}
